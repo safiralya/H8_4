{
 "cells": [
  {
   "cell_type": "markdown",
   "id": "11b2fdb3-f75e-4866-947f-fea0161a0c93",
   "metadata": {},
   "source": [
    "Descriptive Statistics"
   ]
  },
  {
   "cell_type": "code",
   "execution_count": 93,
   "id": "f6f2aa4b-e57b-41fe-a20a-debbf39f2efb",
   "metadata": {},
   "outputs": [],
   "source": [
    "import math\n",
    "import statistics\n",
    "import numpy as np\n",
    "import scipy.stats\n",
    "import pandas as pd"
   ]
  },
  {
   "cell_type": "code",
   "execution_count": 94,
   "id": "dd9b1aff-476a-4a1d-b6c7-52096c6fd761",
   "metadata": {},
   "outputs": [
    {
     "data": {
      "text/plain": [
       "nan"
      ]
     },
     "execution_count": 94,
     "metadata": {},
     "output_type": "execute_result"
    }
   ],
   "source": [
    "math.nan"
   ]
  },
  {
   "cell_type": "code",
   "execution_count": 95,
   "id": "ccc61f44-3c23-4292-a4c6-81982f69fff6",
   "metadata": {},
   "outputs": [
    {
     "data": {
      "text/plain": [
       "nan"
      ]
     },
     "execution_count": 95,
     "metadata": {},
     "output_type": "execute_result"
    }
   ],
   "source": [
    "np.nan"
   ]
  },
  {
   "cell_type": "code",
   "execution_count": 96,
   "id": "d68a3d85-e189-4290-94ac-12cc72a575be",
   "metadata": {},
   "outputs": [
    {
     "name": "stdout",
     "output_type": "stream",
     "text": [
      "[8, 1, 2.5, 4, 28]\n",
      "[8, 1, 2.5, nan, 4, 28]\n"
     ]
    }
   ],
   "source": [
    "x = [8,1,2.5,4,28]\n",
    "x_with_nan = [8,1,2.5,np.nan,4,28]\n",
    "print(x)\n",
    "print(x_with_nan)"
   ]
  },
  {
   "cell_type": "code",
   "execution_count": 97,
   "id": "7aa2f4d8-5a5b-4a2a-9ce7-7b7ab517c1f1",
   "metadata": {},
   "outputs": [
    {
     "name": "stdout",
     "output_type": "stream",
     "text": [
      "[ 8.   1.   2.5  4.  28. ]\n",
      "[ 8.   1.   2.5  nan  4.  28. ]\n",
      "0     8.0\n",
      "1     1.0\n",
      "2     2.5\n",
      "3     4.0\n",
      "4    28.0\n",
      "dtype: float64\n",
      "0     8.0\n",
      "1     1.0\n",
      "2     2.5\n",
      "3     NaN\n",
      "4     4.0\n",
      "5    28.0\n",
      "dtype: float64\n"
     ]
    }
   ],
   "source": [
    "#buat array(y) dan Series(z) dari x\n",
    "y , y_with_nan = np.array(x), np.array(x_with_nan) #array\n",
    "z , z_with_nan = pd.Series(x), pd.Series(x_with_nan)\n",
    "\n",
    "print(y)\n",
    "print(y_with_nan)\n",
    "print(z)\n",
    "print(z_with_nan)"
   ]
  },
  {
   "cell_type": "code",
   "execution_count": 98,
   "id": "26b68467-5fc8-499d-bf3c-37de806f1105",
   "metadata": {},
   "outputs": [
    {
     "data": {
      "text/plain": [
       "0    False\n",
       "1    False\n",
       "2    False\n",
       "3     True\n",
       "4    False\n",
       "5    False\n",
       "dtype: bool"
      ]
     },
     "execution_count": 98,
     "metadata": {},
     "output_type": "execute_result"
    }
   ],
   "source": [
    "z_with_nan.isna()"
   ]
  },
  {
   "cell_type": "markdown",
   "id": "e43ef262-78d9-4728-b0dc-1d53907a568b",
   "metadata": {},
   "source": [
    "# Measure of Central Tendency"
   ]
  },
  {
   "cell_type": "markdown",
   "id": "5012adb9",
   "metadata": {},
   "source": [
    "## Mean"
   ]
  },
  {
   "cell_type": "markdown",
   "id": "cb819af0-cf33-418f-b7ee-f02d40cea3d5",
   "metadata": {},
   "source": [
    "### Arithmetic Mean"
   ]
  },
  {
   "cell_type": "code",
   "execution_count": 99,
   "id": "3d5b78c3-3d88-409a-9781-c9517c28972f",
   "metadata": {},
   "outputs": [
    {
     "data": {
      "text/plain": [
       "[8, 1, 2.5, 4, 28]"
      ]
     },
     "execution_count": 99,
     "metadata": {},
     "output_type": "execute_result"
    }
   ],
   "source": [
    "x"
   ]
  },
  {
   "cell_type": "code",
   "execution_count": 100,
   "id": "b4526b8c-6d3d-49eb-9a01-f4b1a4d66265",
   "metadata": {},
   "outputs": [
    {
     "data": {
      "text/plain": [
       "43.5"
      ]
     },
     "execution_count": 100,
     "metadata": {},
     "output_type": "execute_result"
    }
   ],
   "source": [
    "sum(x)"
   ]
  },
  {
   "cell_type": "code",
   "execution_count": 101,
   "id": "612a6745-1817-4e67-9770-88028095e28d",
   "metadata": {},
   "outputs": [
    {
     "data": {
      "text/plain": [
       "5"
      ]
     },
     "execution_count": 101,
     "metadata": {},
     "output_type": "execute_result"
    }
   ],
   "source": [
    "len(x)"
   ]
  },
  {
   "cell_type": "code",
   "execution_count": 102,
   "id": "c30970d9-3578-409c-8c83-fe48f4cb99b1",
   "metadata": {},
   "outputs": [
    {
     "data": {
      "text/plain": [
       "8.7"
      ]
     },
     "execution_count": 102,
     "metadata": {},
     "output_type": "execute_result"
    }
   ],
   "source": [
    "mean_x = sum(x)/len(x)\n",
    "mean_x"
   ]
  },
  {
   "cell_type": "code",
   "execution_count": 103,
   "id": "e8a2c89d-0898-435f-b061-62a52cc9123a",
   "metadata": {},
   "outputs": [
    {
     "name": "stdout",
     "output_type": "stream",
     "text": [
      "8.7\n"
     ]
    }
   ],
   "source": [
    "mean_stats = statistics.mean(x)\n",
    "print(mean_stats)"
   ]
  },
  {
   "cell_type": "code",
   "execution_count": 104,
   "id": "d0b7f1da-6d53-4db2-9151-30497a183b9d",
   "metadata": {},
   "outputs": [
    {
     "name": "stdout",
     "output_type": "stream",
     "text": [
      "8.7\n"
     ]
    }
   ],
   "source": [
    "mean_np = np.mean(x)\n",
    "print(mean_np)"
   ]
  },
  {
   "cell_type": "code",
   "execution_count": 105,
   "id": "88a7eeaf-1899-4976-b393-d16f3bf6c204",
   "metadata": {},
   "outputs": [
    {
     "data": {
      "text/plain": [
       "array([ 8. ,  1. ,  2.5,  4. , 28. ])"
      ]
     },
     "execution_count": 105,
     "metadata": {},
     "output_type": "execute_result"
    }
   ],
   "source": [
    "y"
   ]
  },
  {
   "cell_type": "code",
   "execution_count": 106,
   "id": "5459ea0b-4217-4c0a-b73b-df79a9976c5b",
   "metadata": {},
   "outputs": [
    {
     "data": {
      "text/plain": [
       "8.7"
      ]
     },
     "execution_count": 106,
     "metadata": {},
     "output_type": "execute_result"
    }
   ],
   "source": [
    "y.mean() #array"
   ]
  },
  {
   "cell_type": "code",
   "execution_count": 107,
   "id": "149dfcde-0649-4ceb-bf1d-88052bafd516",
   "metadata": {},
   "outputs": [
    {
     "data": {
      "text/plain": [
       "8.7"
      ]
     },
     "execution_count": 107,
     "metadata": {},
     "output_type": "execute_result"
    }
   ],
   "source": [
    "z.mean() #Series"
   ]
  },
  {
   "cell_type": "code",
   "execution_count": 108,
   "id": "24ef2e2f-6234-4006-a14b-886d412d5491",
   "metadata": {},
   "outputs": [
    {
     "data": {
      "text/plain": [
       "nan"
      ]
     },
     "execution_count": 108,
     "metadata": {},
     "output_type": "execute_result"
    }
   ],
   "source": [
    "y_with_nan.mean()"
   ]
  },
  {
   "cell_type": "code",
   "execution_count": 109,
   "id": "e91fd60c-cda1-48a9-9726-fa32afbc4ae8",
   "metadata": {},
   "outputs": [
    {
     "data": {
      "text/plain": [
       "nan"
      ]
     },
     "execution_count": 109,
     "metadata": {},
     "output_type": "execute_result"
    }
   ],
   "source": [
    "np.mean(y_with_nan)"
   ]
  },
  {
   "cell_type": "code",
   "execution_count": 110,
   "id": "dc319876-08a9-451b-a670-f33a8cbb296e",
   "metadata": {},
   "outputs": [
    {
     "data": {
      "text/plain": [
       "nan"
      ]
     },
     "execution_count": 110,
     "metadata": {},
     "output_type": "execute_result"
    }
   ],
   "source": [
    "np.nan*3"
   ]
  },
  {
   "cell_type": "code",
   "execution_count": 111,
   "id": "b5d68f7a-e435-4a9d-9502-62af71f6a4a1",
   "metadata": {},
   "outputs": [
    {
     "data": {
      "text/plain": [
       "8.7"
      ]
     },
     "execution_count": 111,
     "metadata": {},
     "output_type": "execute_result"
    }
   ],
   "source": [
    "np.nanmean(y_with_nan) #get mean without considering NaN values"
   ]
  },
  {
   "cell_type": "code",
   "execution_count": 112,
   "id": "1dd8e5cc-aca0-4023-bfb5-cc4dfb8b9d21",
   "metadata": {},
   "outputs": [
    {
     "data": {
      "text/plain": [
       "8.7"
      ]
     },
     "execution_count": 112,
     "metadata": {},
     "output_type": "execute_result"
    }
   ],
   "source": [
    "z_with_nan.mean() #Series langsung merata2kan tanpa mempertimbangkan NaN values"
   ]
  },
  {
   "cell_type": "code",
   "execution_count": 113,
   "id": "9cc2aedf-aff7-4173-8311-b3bb443f32a8",
   "metadata": {},
   "outputs": [
    {
     "data": {
      "text/plain": [
       "0     8.0\n",
       "1     1.0\n",
       "2     2.5\n",
       "3     NaN\n",
       "4     4.0\n",
       "5    28.0\n",
       "dtype: float64"
      ]
     },
     "execution_count": 113,
     "metadata": {},
     "output_type": "execute_result"
    }
   ],
   "source": [
    "z_with_nan"
   ]
  },
  {
   "cell_type": "markdown",
   "id": "abf52f05-17a1-4b2b-8028-41f7659f0b5d",
   "metadata": {},
   "source": [
    "### Weighted Mean"
   ]
  },
  {
   "cell_type": "code",
   "execution_count": 114,
   "id": "d024ef5b-76a0-4f00-96bd-700f34a11368",
   "metadata": {},
   "outputs": [
    {
     "name": "stdout",
     "output_type": "stream",
     "text": [
      "6.95\n"
     ]
    }
   ],
   "source": [
    "x = [8,1,2.5,4,28] #Metrics\n",
    "w = [0.1,0.2,0.3,0.25,0.15] #Weightages\n",
    "\n",
    "#convert jadi array\n",
    "y,z,w = np.array(x),pd.Series(x),np.array(w)\n",
    "\n",
    "wmean = np.average(y , weights=w)\n",
    "print(wmean)"
   ]
  },
  {
   "cell_type": "code",
   "execution_count": 115,
   "id": "6cc55739-259d-45b1-bf92-58ad833b0adb",
   "metadata": {},
   "outputs": [
    {
     "name": "stdout",
     "output_type": "stream",
     "text": [
      "6.95\n"
     ]
    }
   ],
   "source": [
    "#manual calculation\n",
    "wmean_manual = sum(w[i]*x[i] for i in range(len(x)))/sum(w)\n",
    "print(wmean)"
   ]
  },
  {
   "cell_type": "code",
   "execution_count": 116,
   "id": "1e51c533-89ae-4964-b5cb-c271b637c9e3",
   "metadata": {},
   "outputs": [
    {
     "data": {
      "text/plain": [
       "1.0"
      ]
     },
     "execution_count": 116,
     "metadata": {},
     "output_type": "execute_result"
    }
   ],
   "source": [
    "sum(w)"
   ]
  },
  {
   "cell_type": "markdown",
   "id": "f0735d15-0d07-4c0a-bc11-663e8c9335d0",
   "metadata": {},
   "source": [
    "### Harmonic Mean"
   ]
  },
  {
   "cell_type": "code",
   "execution_count": 117,
   "id": "f411800c-1519-4900-b279-241c9890a9d8",
   "metadata": {},
   "outputs": [
    {
     "data": {
      "text/plain": [
       "30.0"
      ]
     },
     "execution_count": 117,
     "metadata": {},
     "output_type": "execute_result"
    }
   ],
   "source": [
    "speed = [60,20]\n",
    "hmean_speed = len(speed)/sum(1/item for item in speed)\n",
    "hmean_speed"
   ]
  },
  {
   "cell_type": "code",
   "execution_count": 118,
   "id": "398e1396-4264-4d60-b619-93641e4c5307",
   "metadata": {},
   "outputs": [
    {
     "data": {
      "text/plain": [
       "30.0"
      ]
     },
     "execution_count": 118,
     "metadata": {},
     "output_type": "execute_result"
    }
   ],
   "source": [
    "# hmean dengan library 1\n",
    "hmean_speed_stats = statistics.harmonic_mean(speed)\n",
    "hmean_speed_stats"
   ]
  },
  {
   "cell_type": "code",
   "execution_count": 119,
   "id": "d3013c80-555a-4d03-9dd1-dc7bf2ee3fb0",
   "metadata": {},
   "outputs": [
    {
     "data": {
      "text/plain": [
       "30.0"
      ]
     },
     "execution_count": 119,
     "metadata": {},
     "output_type": "execute_result"
    }
   ],
   "source": [
    "# hmean dengan library 1\n",
    "hmean_speed_stats2 = scipy.stats.hmean(speed)\n",
    "hmean_speed_stats2"
   ]
  },
  {
   "cell_type": "code",
   "execution_count": 120,
   "id": "947a598e-efef-43a7-b28f-9704f60db4ff",
   "metadata": {},
   "outputs": [
    {
     "data": {
      "text/plain": [
       "[8, 1, 2.5, 4, 28]"
      ]
     },
     "execution_count": 120,
     "metadata": {},
     "output_type": "execute_result"
    }
   ],
   "source": [
    "x"
   ]
  },
  {
   "cell_type": "code",
   "execution_count": 121,
   "id": "7fd6fb19-2b37-43c4-b80c-82c5146d78af",
   "metadata": {},
   "outputs": [
    {
     "data": {
      "text/plain": [
       "2.7613412228796843"
      ]
     },
     "execution_count": 121,
     "metadata": {},
     "output_type": "execute_result"
    }
   ],
   "source": [
    "\n",
    "hmean = len(x) / sum(1/item for item in x)\n",
    "hmean"
   ]
  },
  {
   "cell_type": "code",
   "execution_count": 122,
   "id": "fd5abfba-2900-4a4a-b460-acdab1541122",
   "metadata": {},
   "outputs": [
    {
     "data": {
      "text/plain": [
       "8.7"
      ]
     },
     "execution_count": 122,
     "metadata": {},
     "output_type": "execute_result"
    }
   ],
   "source": [
    "arit_mean = np.mean(x)\n",
    "arit_mean"
   ]
  },
  {
   "cell_type": "code",
   "execution_count": 123,
   "id": "08bc3fbe-4c92-47fd-8951-37b0109778b0",
   "metadata": {},
   "outputs": [
    {
     "data": {
      "text/plain": [
       "[8, 1, 2.5, 4, 28]"
      ]
     },
     "execution_count": 123,
     "metadata": {},
     "output_type": "execute_result"
    }
   ],
   "source": [
    "x"
   ]
  },
  {
   "cell_type": "code",
   "execution_count": 124,
   "id": "15310300-d210-4c79-8676-69422665653e",
   "metadata": {},
   "outputs": [
    {
     "name": "stdout",
     "output_type": "stream",
     "text": [
      "0.125\n",
      "1.0\n",
      "0.4\n",
      "0.25\n",
      "0.03571428571428571\n"
     ]
    }
   ],
   "source": [
    "for item in x:\n",
    "    print(1/item)"
   ]
  },
  {
   "cell_type": "code",
   "execution_count": 125,
   "id": "9fa0f67d-3ff0-4e6c-aaca-3106676e061e",
   "metadata": {},
   "outputs": [
    {
     "data": {
      "text/plain": [
       "[0.125, 1.0, 0.4, 0.25, 0.03571428571428571]"
      ]
     },
     "execution_count": 125,
     "metadata": {},
     "output_type": "execute_result"
    }
   ],
   "source": [
    "list(1/item for item in x)"
   ]
  },
  {
   "cell_type": "code",
   "execution_count": 126,
   "id": "b8d35153-08bc-4897-84f1-ddf449acdf75",
   "metadata": {},
   "outputs": [
    {
     "data": {
      "text/plain": [
       "2.7613412228796843"
      ]
     },
     "execution_count": 126,
     "metadata": {},
     "output_type": "execute_result"
    }
   ],
   "source": [
    "# hmean dgn library\n",
    "hmean_stats = statistics.harmonic_mean(x)\n",
    "hmean_stats"
   ]
  },
  {
   "cell_type": "markdown",
   "id": "ebe5abf2-8793-4888-95c4-06874164be5c",
   "metadata": {},
   "source": [
    "### Geometric Mean"
   ]
  },
  {
   "cell_type": "markdown",
   "id": "5a43ab24-b1cf-4241-9304-b9efab303c1b",
   "metadata": {},
   "source": [
    "Perusahaan berdiri pada tahun 2017\n",
    "\n",
    "tahun 2017 omsetnya 1000\n",
    "\n",
    "di tahun 2018 naik 30 %\n",
    "\n",
    "di tahun 2019 naik 50 %\n",
    "\n",
    "di tahun 2020 naik 40 %"
   ]
  },
  {
   "cell_type": "code",
   "execution_count": 127,
   "id": "05e79b20-c0e6-40fd-a0d0-6759345b5238",
   "metadata": {},
   "outputs": [
    {
     "data": {
      "text/plain": [
       "2730.0"
      ]
     },
     "execution_count": 127,
     "metadata": {},
     "output_type": "execute_result"
    }
   ],
   "source": [
    "x = 1000\n",
    "x*=1.3 #1300\n",
    "x*=1.5 #1950\n",
    "x*=1.4 #2730\n",
    "x"
   ]
  },
  {
   "cell_type": "code",
   "execution_count": 128,
   "id": "29f59d34-575f-48be-a5c1-f61f0305686f",
   "metadata": {},
   "outputs": [
    {
     "data": {
      "text/plain": [
       "40.0"
      ]
     },
     "execution_count": 128,
     "metadata": {},
     "output_type": "execute_result"
    }
   ],
   "source": [
    "# Arithmetic Mean\n",
    "(30+50+40)/3"
   ]
  },
  {
   "cell_type": "code",
   "execution_count": 129,
   "id": "cc8ddf7f-2ca5-466e-b35e-5575a85571c5",
   "metadata": {},
   "outputs": [
    {
     "data": {
      "text/plain": [
       "2743.9999999999995"
      ]
     },
     "execution_count": 129,
     "metadata": {},
     "output_type": "execute_result"
    }
   ],
   "source": [
    "x = 1000\n",
    "x*=1.4\n",
    "x*=1.4\n",
    "x*=1.4\n",
    "x"
   ]
  },
  {
   "cell_type": "code",
   "execution_count": 130,
   "id": "118d94b7-435e-43a3-8c4e-91e5dc580eb4",
   "metadata": {},
   "outputs": [
    {
     "data": {
      "text/plain": [
       "39.148676411688626"
      ]
     },
     "execution_count": 130,
     "metadata": {},
     "output_type": "execute_result"
    }
   ],
   "source": [
    "#Geometric Mean\n",
    "gmean = ((30*50*40)**(1/3))\n",
    "gmean"
   ]
  },
  {
   "cell_type": "code",
   "execution_count": 131,
   "id": "f15d5493-e332-4081-9123-5b0cc41ae509",
   "metadata": {},
   "outputs": [
    {
     "data": {
      "text/plain": [
       "2694.322835875"
      ]
     },
     "execution_count": 131,
     "metadata": {},
     "output_type": "execute_result"
    }
   ],
   "source": [
    "x = 1000\n",
    "x*=1.3915\n",
    "x*=1.3915\n",
    "x*=1.3915\n",
    "x"
   ]
  },
  {
   "cell_type": "code",
   "execution_count": 132,
   "id": "9fb275b1-6489-4c49-87b9-0810d56e6151",
   "metadata": {},
   "outputs": [
    {
     "data": {
      "text/plain": [
       "39.14867641168864"
      ]
     },
     "execution_count": 132,
     "metadata": {},
     "output_type": "execute_result"
    }
   ],
   "source": [
    "scipy.stats.gmean([30,50,40]) #geometric mean menggunakan library scipy"
   ]
  },
  {
   "cell_type": "markdown",
   "id": "ca2f0a36-0f26-4757-8552-07a565471ce2",
   "metadata": {},
   "source": [
    "## Median"
   ]
  },
  {
   "cell_type": "markdown",
   "id": "4a7bbf52-b2d5-4a8e-9e99-0e6ce37748e7",
   "metadata": {},
   "source": [
    "\n"
   ]
  },
  {
   "cell_type": "code",
   "execution_count": 133,
   "id": "bc6f6968-7584-483d-aef0-2fddc17515e9",
   "metadata": {},
   "outputs": [
    {
     "data": {
      "text/plain": [
       "4"
      ]
     },
     "execution_count": 133,
     "metadata": {},
     "output_type": "execute_result"
    }
   ],
   "source": [
    "#Ganjil\n",
    "a = [1,2,4,8,9]\n",
    "n = len(a)\n",
    "median = a[2]\n",
    "median"
   ]
  },
  {
   "cell_type": "code",
   "execution_count": 134,
   "id": "86a4235a-404b-4876-a3d8-42f17c1f96bc",
   "metadata": {},
   "outputs": [
    {
     "data": {
      "text/plain": [
       "3.0"
      ]
     },
     "execution_count": 134,
     "metadata": {},
     "output_type": "execute_result"
    }
   ],
   "source": [
    "#Genap\n",
    "a = [1,2,4,8]\n",
    "n = len(a)\n",
    "(n+1)/2\n",
    "median = (2+4)/2\n",
    "median"
   ]
  },
  {
   "cell_type": "code",
   "execution_count": 135,
   "id": "cf48a3d0-39b2-4ef2-acdf-3e9ca40077d7",
   "metadata": {},
   "outputs": [
    {
     "data": {
      "text/plain": [
       "3.5"
      ]
     },
     "execution_count": 135,
     "metadata": {},
     "output_type": "execute_result"
    }
   ],
   "source": [
    "# Menggunakan numpy\n",
    "x = [8, 1, 2.5, 4, 28]\n",
    "c = [2,3,4,5]\n",
    "np.median(c)"
   ]
  },
  {
   "cell_type": "code",
   "execution_count": 136,
   "id": "e737a5f4-309e-453f-8d7b-4c6296f02ad4",
   "metadata": {},
   "outputs": [],
   "source": [
    "# Pembuktian manual\n",
    "def median_function(x):\n",
    "    n = len(x)\n",
    "    if n%2 == 1: #Ganjil\n",
    "        median_ = sorted(x)[round(0.5*(n-1))] #ambil median\n",
    "    else: #Genap\n",
    "        x_ord, index = sorted(x) , round(0.5*n)\n",
    "        median_=0.5 * (x_ord[index-1]+x_ord[index])\n",
    "    return median_"
   ]
  },
  {
   "cell_type": "code",
   "execution_count": 137,
   "id": "1868d14d-f0fd-421e-9413-1a57f33bf1bd",
   "metadata": {},
   "outputs": [
    {
     "data": {
      "text/plain": [
       "4"
      ]
     },
     "execution_count": 137,
     "metadata": {},
     "output_type": "execute_result"
    }
   ],
   "source": [
    "median_function(x)"
   ]
  },
  {
   "cell_type": "code",
   "execution_count": 138,
   "id": "7fc99af4-10f6-422d-b1d3-b0f57ab178d4",
   "metadata": {},
   "outputs": [
    {
     "data": {
      "text/plain": [
       "3.5"
      ]
     },
     "execution_count": 138,
     "metadata": {},
     "output_type": "execute_result"
    }
   ],
   "source": [
    "median_function(c)"
   ]
  },
  {
   "cell_type": "code",
   "execution_count": 139,
   "id": "ee00302f-0cbc-4c9e-b6ce-1ce08c4ba206",
   "metadata": {},
   "outputs": [
    {
     "data": {
      "text/plain": [
       "[1, 2.5, 4, 8, 28]"
      ]
     },
     "execution_count": 139,
     "metadata": {},
     "output_type": "execute_result"
    }
   ],
   "source": [
    "sorted(x)"
   ]
  },
  {
   "cell_type": "code",
   "execution_count": 140,
   "id": "9ad4227d-3a4b-4b67-8fb2-eff18e6aff0c",
   "metadata": {},
   "outputs": [
    {
     "data": {
      "text/plain": [
       "3"
      ]
     },
     "execution_count": 140,
     "metadata": {},
     "output_type": "execute_result"
    }
   ],
   "source": [
    "n = len([1,2,3,4,5,6,7])\n",
    "round(0.5*(n-1))"
   ]
  },
  {
   "cell_type": "code",
   "execution_count": 141,
   "id": "6bbfe429-f891-4109-a573-ca2afbbbf5a3",
   "metadata": {},
   "outputs": [
    {
     "data": {
      "text/plain": [
       "7"
      ]
     },
     "execution_count": 141,
     "metadata": {},
     "output_type": "execute_result"
    }
   ],
   "source": [
    "n"
   ]
  },
  {
   "cell_type": "markdown",
   "id": "cf4d5338-e8d0-4ad9-9fe6-8afe2e28acdd",
   "metadata": {},
   "source": [
    "## Mode/Modus"
   ]
  },
  {
   "cell_type": "code",
   "execution_count": 142,
   "id": "d9aee076-f8c3-4697-b5f6-5b263f0bcbc0",
   "metadata": {},
   "outputs": [],
   "source": [
    "u = [2,3,2,8,12]\n",
    "\n",
    "mode_ = max((u.count(i),i)for i in set(u))[1]"
   ]
  },
  {
   "cell_type": "code",
   "execution_count": 143,
   "id": "f4cfa058-56cc-4d52-aa5d-9ae8673dd667",
   "metadata": {},
   "outputs": [
    {
     "data": {
      "text/plain": [
       "2"
      ]
     },
     "execution_count": 143,
     "metadata": {},
     "output_type": "execute_result"
    }
   ],
   "source": [
    "statistics.mode(u)"
   ]
  },
  {
   "cell_type": "code",
   "execution_count": 144,
   "id": "0c61fa8d-f9dd-4194-92bc-6b53ba03b60b",
   "metadata": {},
   "outputs": [
    {
     "data": {
      "text/plain": [
       "2"
      ]
     },
     "execution_count": 144,
     "metadata": {},
     "output_type": "execute_result"
    }
   ],
   "source": [
    "scipy.stats.mode(u)[0][0]"
   ]
  },
  {
   "cell_type": "code",
   "execution_count": 145,
   "id": "703f7f3d-768d-4360-b9e0-ef02db5417ad",
   "metadata": {},
   "outputs": [],
   "source": [
    "mode_lib = scipy.stats.mode(u)"
   ]
  },
  {
   "cell_type": "code",
   "execution_count": 146,
   "id": "359da1f6-8f27-4a84-ae52-09dcc82d8479",
   "metadata": {},
   "outputs": [
    {
     "name": "stdout",
     "output_type": "stream",
     "text": [
      "ModeResult(mode=array([2]), count=array([2]))\n",
      "[2]\n",
      "[2]\n"
     ]
    }
   ],
   "source": [
    "print(mode_lib)\n",
    "print(mode_lib.mode)\n",
    "print(mode_lib.count)"
   ]
  },
  {
   "cell_type": "code",
   "execution_count": 147,
   "id": "6d2d7a46-2b2d-44d9-be2c-e3a982ca55bf",
   "metadata": {},
   "outputs": [
    {
     "data": {
      "text/plain": [
       "[2, 3, 2, 8, 12]"
      ]
     },
     "execution_count": 147,
     "metadata": {},
     "output_type": "execute_result"
    }
   ],
   "source": [
    "u"
   ]
  },
  {
   "cell_type": "code",
   "execution_count": 148,
   "id": "1259b9c1-4ee8-445c-91d2-d0aea3d58410",
   "metadata": {},
   "outputs": [
    {
     "data": {
      "text/plain": [
       "0    2\n",
       "dtype: int64"
      ]
     },
     "execution_count": 148,
     "metadata": {},
     "output_type": "execute_result"
    }
   ],
   "source": [
    "u_series = pd.Series(u)\n",
    "u_series.mode()"
   ]
  },
  {
   "cell_type": "code",
   "execution_count": 149,
   "id": "5caa6235-8873-4eb2-a90d-4cf43fbf054f",
   "metadata": {},
   "outputs": [
    {
     "data": {
      "text/plain": [
       "2"
      ]
     },
     "execution_count": 149,
     "metadata": {},
     "output_type": "execute_result"
    }
   ],
   "source": [
    "u_array = np.array(u)\n",
    "statistics.mode(u_array)"
   ]
  },
  {
   "cell_type": "code",
   "execution_count": 150,
   "id": "0f936b43-c271-4566-8a10-62d951e3827e",
   "metadata": {},
   "outputs": [
    {
     "data": {
      "text/plain": [
       "0    3.0\n",
       "dtype: float64"
      ]
     },
     "execution_count": 150,
     "metadata": {},
     "output_type": "execute_result"
    }
   ],
   "source": [
    "v = pd.Series([1,2,3,3,3,np.nan,np.nan,np.nan,np.nan])\n",
    "v.mode()"
   ]
  },
  {
   "cell_type": "code",
   "execution_count": 151,
   "id": "88a08fc2-7c2c-495a-9cad-7cb5631631b6",
   "metadata": {},
   "outputs": [
    {
     "data": {
      "text/plain": [
       "3.0"
      ]
     },
     "execution_count": 151,
     "metadata": {},
     "output_type": "execute_result"
    }
   ],
   "source": [
    "statistics.mode(v)"
   ]
  },
  {
   "cell_type": "code",
   "execution_count": 152,
   "id": "f43d9175-ca1c-435f-8dc8-e8685775f483",
   "metadata": {},
   "outputs": [
    {
     "data": {
      "text/plain": [
       "nan"
      ]
     },
     "execution_count": 152,
     "metadata": {},
     "output_type": "execute_result"
    }
   ],
   "source": [
    "h = [1,2,3,3,3,np.nan,np.nan,np.nan,np.nan]\n",
    "statistics.mode(h)"
   ]
  },
  {
   "cell_type": "markdown",
   "id": "bc34a80b-a2d4-4b7c-8b1a-0e81aacfe366",
   "metadata": {},
   "source": [
    "Series akan mengabaikan NaN dan List akan mempertimbangkan NaN"
   ]
  },
  {
   "cell_type": "markdown",
   "id": "a3fe8c4e-cae9-4073-8cfa-dc6f267ee938",
   "metadata": {},
   "source": [
    "# Measures of Variability"
   ]
  },
  {
   "cell_type": "markdown",
   "id": "9cad9ea9-1165-412c-bff7-ce6f1055d93f",
   "metadata": {},
   "source": [
    "## Variance"
   ]
  },
  {
   "cell_type": "code",
   "execution_count": 153,
   "id": "c1c1efb3-3bec-4423-bb5d-04106695f6a0",
   "metadata": {},
   "outputs": [
    {
     "data": {
      "text/plain": [
       "[8, 1, 2.5, 4, 28]"
      ]
     },
     "execution_count": 153,
     "metadata": {},
     "output_type": "execute_result"
    }
   ],
   "source": [
    "x"
   ]
  },
  {
   "cell_type": "code",
   "execution_count": 154,
   "id": "b2378e6e-6554-410b-a3ae-05b846624cfb",
   "metadata": {},
   "outputs": [
    {
     "data": {
      "text/plain": [
       "123.19999999999999"
      ]
     },
     "execution_count": 154,
     "metadata": {},
     "output_type": "execute_result"
    }
   ],
   "source": [
    "n  = len(x)\n",
    "mean_var = np.mean(x)\n",
    "var_ = sum((item-mean_var)**2 for item in x ) / (n-1)\n",
    "var_"
   ]
  },
  {
   "cell_type": "code",
   "execution_count": 155,
   "id": "793e8149-9900-4a48-88a4-6fd32a5f47a3",
   "metadata": {},
   "outputs": [
    {
     "data": {
      "text/plain": [
       "123.2"
      ]
     },
     "execution_count": 155,
     "metadata": {},
     "output_type": "execute_result"
    }
   ],
   "source": [
    "# Variance w/ statistics library\n",
    "var_stat = statistics.variance(x)\n",
    "var_stat"
   ]
  },
  {
   "cell_type": "code",
   "execution_count": 156,
   "id": "07a2f25f-64ae-4aed-88f0-954717c40fbc",
   "metadata": {},
   "outputs": [
    {
     "data": {
      "text/plain": [
       "123.19999999999999"
      ]
     },
     "execution_count": 156,
     "metadata": {},
     "output_type": "execute_result"
    }
   ],
   "source": [
    "# variance w/ numpy\n",
    "var_np = np.var(x,ddof=1)\n",
    "var_np"
   ]
  },
  {
   "cell_type": "code",
   "execution_count": 157,
   "id": "2a866bb6-a6b6-4ffb-86af-24622287698e",
   "metadata": {},
   "outputs": [
    {
     "data": {
      "text/plain": [
       "123.19999999999999"
      ]
     },
     "execution_count": 157,
     "metadata": {},
     "output_type": "execute_result"
    }
   ],
   "source": [
    "# Variance using Series function\n",
    "z = pd.Series(x)\n",
    "z.var()"
   ]
  },
  {
   "cell_type": "markdown",
   "id": "f8ce3abe-ee1e-4ccb-83f8-4841728ca934",
   "metadata": {},
   "source": [
    "## Standard Deviasi"
   ]
  },
  {
   "cell_type": "code",
   "execution_count": 158,
   "id": "2ca87bfd-ad06-4098-a4c6-4e42bc0afea7",
   "metadata": {},
   "outputs": [
    {
     "name": "stdout",
     "output_type": "stream",
     "text": [
      "Standar Deviasi dari x adalah: 18.58090417606205\n",
      "Variansi dari x adalah: 345.25000000000006\n"
     ]
    }
   ],
   "source": [
    "x = [1,2,3,6,7,8,30,40,50]\n",
    "std_dev = statistics.stdev(x)\n",
    "print(\"Standar Deviasi dari x adalah:\", std_dev)\n",
    "\n",
    "variance = statistics.variance(x)\n",
    "print(\"Variansi dari x adalah:\", variance)"
   ]
  },
  {
   "cell_type": "code",
   "execution_count": 159,
   "id": "d4e34b1b-8e53-4940-9460-7db6f97f5a65",
   "metadata": {},
   "outputs": [
    {
     "name": "stdout",
     "output_type": "stream",
     "text": [
      "345.25000000000006\n",
      "18.58090417606205\n"
     ]
    }
   ],
   "source": [
    "#Kuis 1 tim 4\n",
    "x = [1,2,3,6,7,8,30,40,50]\n",
    "n = len(x)\n",
    "mean = sum(x)/n\n",
    "var_ = sum((item - mean)**2 for item in x)/(n-1)\n",
    "Sd_ = var_**(1/2) #\n",
    "\n",
    "print(var_)\n",
    "print(Sd_)"
   ]
  },
  {
   "cell_type": "markdown",
   "id": "3546513c-a3aa-4616-a53e-ba5864f3ddda",
   "metadata": {},
   "source": [
    "tim 4 poin"
   ]
  },
  {
   "cell_type": "code",
   "execution_count": 160,
   "id": "126f5881-9934-460f-b53c-3a44bf2032c5",
   "metadata": {},
   "outputs": [],
   "source": [
    "x = [8, 1, 2.5, 4, 28]"
   ]
  },
  {
   "cell_type": "code",
   "execution_count": 161,
   "id": "9477edcf-4cec-4c25-9efc-96ad6ef0e162",
   "metadata": {},
   "outputs": [
    {
     "data": {
      "text/plain": [
       "123.19999999999999"
      ]
     },
     "execution_count": 161,
     "metadata": {},
     "output_type": "execute_result"
    }
   ],
   "source": [
    "var_np"
   ]
  },
  {
   "cell_type": "code",
   "execution_count": 162,
   "id": "e719f33c-dd40-4962-ba2b-d7fb5baf88ad",
   "metadata": {},
   "outputs": [],
   "source": [
    "stdev = var_np**(1/2)"
   ]
  },
  {
   "cell_type": "code",
   "execution_count": 163,
   "id": "d3a03335-9458-4a19-a577-97690bd77707",
   "metadata": {},
   "outputs": [
    {
     "data": {
      "text/plain": [
       "11.099549540409285"
      ]
     },
     "execution_count": 163,
     "metadata": {},
     "output_type": "execute_result"
    }
   ],
   "source": [
    "stdev"
   ]
  },
  {
   "cell_type": "code",
   "execution_count": 164,
   "id": "3ea714d1-5596-4d6a-957c-64759c2be507",
   "metadata": {},
   "outputs": [
    {
     "data": {
      "text/plain": [
       "11.099549540409285"
      ]
     },
     "execution_count": 164,
     "metadata": {},
     "output_type": "execute_result"
    }
   ],
   "source": [
    "stdev = np.sqrt(var_np) \n",
    "stdev"
   ]
  },
  {
   "cell_type": "code",
   "execution_count": 165,
   "id": "1308273c-a520-4a3c-94f2-a968753ac616",
   "metadata": {},
   "outputs": [
    {
     "data": {
      "text/plain": [
       "11.099549540409287"
      ]
     },
     "execution_count": 165,
     "metadata": {},
     "output_type": "execute_result"
    }
   ],
   "source": [
    "# stdev with statistics library\n",
    "stdev = statistics.stdev(x)\n",
    "stdev"
   ]
  },
  {
   "cell_type": "code",
   "execution_count": 166,
   "id": "42a99611-712b-4f66-9dd9-3db692aebe5f",
   "metadata": {},
   "outputs": [
    {
     "data": {
      "text/plain": [
       "11.099549540409285"
      ]
     },
     "execution_count": 166,
     "metadata": {},
     "output_type": "execute_result"
    }
   ],
   "source": [
    "stdev = np.std(x,ddof=1)\n",
    "stdev"
   ]
  },
  {
   "cell_type": "markdown",
   "id": "99eed0cf-8dba-4dd9-be62-bb2ff076ad1f",
   "metadata": {},
   "source": [
    "## SKewness"
   ]
  },
  {
   "cell_type": "code",
   "execution_count": 167,
   "id": "414bc870-9a79-48e3-b560-acf80c04061e",
   "metadata": {},
   "outputs": [
    {
     "data": {
      "text/plain": [
       "[8, 1, 2.5, 4, 28]"
      ]
     },
     "execution_count": 167,
     "metadata": {},
     "output_type": "execute_result"
    }
   ],
   "source": [
    "x"
   ]
  },
  {
   "cell_type": "code",
   "execution_count": 168,
   "id": "42e73efa-fa79-4c88-9248-5d45180c71d0",
   "metadata": {},
   "outputs": [
    {
     "data": {
      "text/plain": [
       "1.947043227390592"
      ]
     },
     "execution_count": 168,
     "metadata": {},
     "output_type": "execute_result"
    }
   ],
   "source": [
    "n = len(x)\n",
    "mean = np.mean(x)\n",
    "stdev = statistics.stdev(x)\n",
    "skew_ = (sum((item - mean)**3 for item in x))*n / ((n-1)*(n-2)*(stdev**3))\n",
    "skew_"
   ]
  },
  {
   "cell_type": "code",
   "execution_count": 169,
   "id": "e0c328e8-ca25-4b2e-972c-5c3d6e6f4af9",
   "metadata": {},
   "outputs": [
    {
     "data": {
      "text/plain": [
       "1.9470432273905927"
      ]
     },
     "execution_count": 169,
     "metadata": {},
     "output_type": "execute_result"
    }
   ],
   "source": [
    "scipy.stats.skew(x,bias=False)"
   ]
  },
  {
   "cell_type": "code",
   "execution_count": 170,
   "id": "b4aa00bc-ac40-45d6-a43c-befa4af1ef5a",
   "metadata": {},
   "outputs": [
    {
     "data": {
      "text/plain": [
       "1.9470432273905924"
      ]
     },
     "execution_count": 170,
     "metadata": {},
     "output_type": "execute_result"
    }
   ],
   "source": [
    "z = pd.Series(x)\n",
    "z.skew()"
   ]
  },
  {
   "cell_type": "code",
   "execution_count": 171,
   "id": "de541b12-d6f8-4815-9f8b-f795e3121fc6",
   "metadata": {},
   "outputs": [
    {
     "data": {
      "text/plain": [
       "nan"
      ]
     },
     "execution_count": 171,
     "metadata": {},
     "output_type": "execute_result"
    }
   ],
   "source": [
    "scipy.stats.skew(x_with_nan)"
   ]
  },
  {
   "cell_type": "code",
   "execution_count": 172,
   "id": "c3f00725-f44c-4e35-957f-19baedd3ce93",
   "metadata": {},
   "outputs": [
    {
     "data": {
      "text/plain": [
       "1.9470432273905924"
      ]
     },
     "execution_count": 172,
     "metadata": {},
     "output_type": "execute_result"
    }
   ],
   "source": [
    "z_with_nan = pd.Series(x_with_nan)\n",
    "z_with_nan.skew()"
   ]
  },
  {
   "cell_type": "code",
   "execution_count": 173,
   "id": "a9ac6a4a-4d0a-4e3b-8949-3536361d1e6b",
   "metadata": {},
   "outputs": [
    {
     "data": {
      "text/plain": [
       "nan"
      ]
     },
     "execution_count": 173,
     "metadata": {},
     "output_type": "execute_result"
    }
   ],
   "source": [
    "scipy.stats.skew(z_with_nan)"
   ]
  },
  {
   "cell_type": "markdown",
   "id": "feb66559-5891-4a93-ba70-5aa558057493",
   "metadata": {},
   "source": [
    "## Percentiles"
   ]
  },
  {
   "cell_type": "code",
   "execution_count": 174,
   "id": "3a1c143f-3006-43f5-a593-d56bcef7059c",
   "metadata": {},
   "outputs": [
    {
     "data": {
      "text/plain": [
       "-3.44"
      ]
     },
     "execution_count": 174,
     "metadata": {},
     "output_type": "execute_result"
    }
   ],
   "source": [
    "x = [-5,-1.1,0.1,2,8,12.8,21,25.8,41]\n",
    "np.percentile(x,5) #Percentile 5"
   ]
  },
  {
   "cell_type": "code",
   "execution_count": 175,
   "id": "b2b150f4-abcd-4b53-9ee4-68297297ddf1",
   "metadata": {},
   "outputs": [
    {
     "data": {
      "text/plain": [
       "-5.0"
      ]
     },
     "execution_count": 175,
     "metadata": {},
     "output_type": "execute_result"
    }
   ],
   "source": [
    "np.percentile(x,0)"
   ]
  },
  {
   "cell_type": "code",
   "execution_count": 176,
   "id": "720da84f-ce86-42e1-b96b-0da9945f5724",
   "metadata": {},
   "outputs": [
    {
     "data": {
      "text/plain": [
       "41.0"
      ]
     },
     "execution_count": 176,
     "metadata": {},
     "output_type": "execute_result"
    }
   ],
   "source": [
    "np.percentile(x,100)"
   ]
  },
  {
   "cell_type": "code",
   "execution_count": 177,
   "id": "c96932f5-c841-4d78-a705-f968f0a07a11",
   "metadata": {},
   "outputs": [
    {
     "data": {
      "text/plain": [
       "28.840000000000003"
      ]
     },
     "execution_count": 177,
     "metadata": {},
     "output_type": "execute_result"
    }
   ],
   "source": [
    "np.percentile(x,90)"
   ]
  },
  {
   "cell_type": "code",
   "execution_count": 178,
   "id": "e0efd4c8-1d0e-4233-a3cc-043c14354c16",
   "metadata": {},
   "outputs": [
    {
     "data": {
      "text/plain": [
       "[8.0]"
      ]
     },
     "execution_count": 178,
     "metadata": {},
     "output_type": "execute_result"
    }
   ],
   "source": [
    "statistics.quantiles(x,n=2)"
   ]
  },
  {
   "cell_type": "code",
   "execution_count": 179,
   "id": "d27d6d2e-8d75-4a43-b1e8-db24d93d04a7",
   "metadata": {},
   "outputs": [
    {
     "data": {
      "text/plain": [
       "[-0.5, 8.0, 23.4]"
      ]
     },
     "execution_count": 179,
     "metadata": {},
     "output_type": "execute_result"
    }
   ],
   "source": [
    "statistics.quantiles(x,n=4)"
   ]
  },
  {
   "cell_type": "code",
   "execution_count": 180,
   "id": "10d6fed5-786d-4962-9fa3-ab46159c26f5",
   "metadata": {},
   "outputs": [
    {
     "data": {
      "text/plain": [
       "[0.1, 8.0, 21.0]"
      ]
     },
     "execution_count": 180,
     "metadata": {},
     "output_type": "execute_result"
    }
   ],
   "source": [
    "statistics.quantiles(x,n=4,method='inclusive')"
   ]
  },
  {
   "cell_type": "code",
   "execution_count": 181,
   "id": "6ec622b7-7f96-4306-bae5-b653ccde6b77",
   "metadata": {},
   "outputs": [
    {
     "data": {
      "text/plain": [
       "[-5, -1.1, 0.1, 2, 8, 12.8, 21, 25.8, 41]"
      ]
     },
     "execution_count": 181,
     "metadata": {},
     "output_type": "execute_result"
    }
   ],
   "source": [
    "x"
   ]
  },
  {
   "cell_type": "code",
   "execution_count": 182,
   "id": "4da000c3-9015-47bd-97fc-3715aebaad1b",
   "metadata": {},
   "outputs": [
    {
     "data": {
      "text/plain": [
       "-5.0"
      ]
     },
     "execution_count": 182,
     "metadata": {},
     "output_type": "execute_result"
    }
   ],
   "source": [
    "np.quantile(x,0)"
   ]
  },
  {
   "cell_type": "code",
   "execution_count": 183,
   "id": "bd56c579-06d3-4554-b35c-f31351d6b4a4",
   "metadata": {},
   "outputs": [
    {
     "data": {
      "text/plain": [
       "41.0"
      ]
     },
     "execution_count": 183,
     "metadata": {},
     "output_type": "execute_result"
    }
   ],
   "source": [
    "np.quantile(x,1)"
   ]
  },
  {
   "cell_type": "code",
   "execution_count": 184,
   "id": "ebad606d-87e2-42f3-ba6a-1d47fed3c401",
   "metadata": {},
   "outputs": [
    {
     "data": {
      "text/plain": [
       "8.0"
      ]
     },
     "execution_count": 184,
     "metadata": {},
     "output_type": "execute_result"
    }
   ],
   "source": [
    "np.quantile(x,0.5)"
   ]
  },
  {
   "cell_type": "code",
   "execution_count": 185,
   "id": "9ea41ec8-533b-4c75-8b2a-733826cc11ad",
   "metadata": {},
   "outputs": [
    {
     "data": {
      "text/plain": [
       "[-5, -1.1, 0.1, 2, 8, 12.8, 21, 25.8, 41]"
      ]
     },
     "execution_count": 185,
     "metadata": {},
     "output_type": "execute_result"
    }
   ],
   "source": [
    "x "
   ]
  },
  {
   "cell_type": "code",
   "execution_count": 186,
   "id": "48f58272-59e0-41d2-848b-ae93a964b2c5",
   "metadata": {},
   "outputs": [
    {
     "data": {
      "text/plain": [
       "[-5, -1.1, nan, 0.1, 2, 8, 12.8, 21, 25.8, 41]"
      ]
     },
     "execution_count": 186,
     "metadata": {},
     "output_type": "execute_result"
    }
   ],
   "source": [
    "x_with_nan = [-5, -1.1,np.nan, 0.1, 2, 8, 12.8, 21, 25.8, 41]\n",
    "x_with_nan"
   ]
  },
  {
   "cell_type": "code",
   "execution_count": 187,
   "id": "651294a2-051f-4459-8615-d3436abd99f4",
   "metadata": {},
   "outputs": [
    {
     "data": {
      "text/plain": [
       "nan"
      ]
     },
     "execution_count": 187,
     "metadata": {},
     "output_type": "execute_result"
    }
   ],
   "source": [
    "np.quantile(x_with_nan,0)"
   ]
  },
  {
   "cell_type": "code",
   "execution_count": 188,
   "id": "be9e3a30-0815-446a-967e-5cfafae09918",
   "metadata": {},
   "outputs": [
    {
     "data": {
      "text/plain": [
       "8.0"
      ]
     },
     "execution_count": 188,
     "metadata": {},
     "output_type": "execute_result"
    }
   ],
   "source": [
    "np.nanquantile(x_with_nan,0.5)"
   ]
  },
  {
   "cell_type": "code",
   "execution_count": 189,
   "id": "6c2c3553-14a9-4719-b927-9defee40c647",
   "metadata": {},
   "outputs": [
    {
     "data": {
      "text/plain": [
       "[-5, -1.1, 0.1, 2, 8, 12.8, 21, 25.8, 41]"
      ]
     },
     "execution_count": 189,
     "metadata": {},
     "output_type": "execute_result"
    }
   ],
   "source": [
    "x"
   ]
  },
  {
   "cell_type": "code",
   "execution_count": 190,
   "id": "ac9ce30c-6491-4807-bbde-d45699d1293e",
   "metadata": {},
   "outputs": [
    {
     "data": {
      "text/plain": [
       "array([ 0.1,  8. , 21. ])"
      ]
     },
     "execution_count": 190,
     "metadata": {},
     "output_type": "execute_result"
    }
   ],
   "source": [
    "np.quantile(x,[0.25,0.5,0.75])"
   ]
  },
  {
   "cell_type": "code",
   "execution_count": 191,
   "id": "45c65cc0-940b-4934-9369-8e3f82c180c9",
   "metadata": {},
   "outputs": [
    {
     "data": {
      "text/plain": [
       "[0.1, 8.0, 21.0]"
      ]
     },
     "execution_count": 191,
     "metadata": {},
     "output_type": "execute_result"
    }
   ],
   "source": [
    "statistics.quantiles(x,n=4,method='inclusive')"
   ]
  },
  {
   "cell_type": "code",
   "execution_count": 192,
   "id": "902baeab-859e-4a5c-8701-4c068028eac6",
   "metadata": {},
   "outputs": [
    {
     "data": {
      "text/plain": [
       "array([ 0.1,  8. , 21. ])"
      ]
     },
     "execution_count": 192,
     "metadata": {},
     "output_type": "execute_result"
    }
   ],
   "source": [
    "np.percentile(x,[25,50,75])"
   ]
  },
  {
   "cell_type": "markdown",
   "id": "ef8c778d-9d3e-4d00-9bc2-b72d6ddacec8",
   "metadata": {},
   "source": [
    "## Ranges"
   ]
  },
  {
   "cell_type": "code",
   "execution_count": 193,
   "id": "31a7674d-293e-4ba9-89f8-468ee5196075",
   "metadata": {},
   "outputs": [
    {
     "data": {
      "text/plain": [
       "[-5, -1.1, 0.1, 2, 8, 12.8, 21, 25.8, 41]"
      ]
     },
     "execution_count": 193,
     "metadata": {},
     "output_type": "execute_result"
    }
   ],
   "source": [
    "x # Ranges  = 41 - (-5) = 46"
   ]
  },
  {
   "cell_type": "code",
   "execution_count": 194,
   "id": "47f45962-c7fe-426b-81a8-e665f777cbff",
   "metadata": {},
   "outputs": [
    {
     "data": {
      "text/plain": [
       "46.0"
      ]
     },
     "execution_count": 194,
     "metadata": {},
     "output_type": "execute_result"
    }
   ],
   "source": [
    "# np.ptp untuk menghitung range\n",
    "np.ptp(x)"
   ]
  },
  {
   "cell_type": "code",
   "execution_count": 195,
   "id": "1fa49805-acbe-4c5a-8fdb-95eea2cc8a94",
   "metadata": {},
   "outputs": [
    {
     "data": {
      "text/plain": [
       "41.0"
      ]
     },
     "execution_count": 195,
     "metadata": {},
     "output_type": "execute_result"
    }
   ],
   "source": [
    "np.amax(x)"
   ]
  },
  {
   "cell_type": "code",
   "execution_count": 196,
   "id": "685634a2-c190-4488-b630-cea448929c20",
   "metadata": {},
   "outputs": [
    {
     "data": {
      "text/plain": [
       "-5.0"
      ]
     },
     "execution_count": 196,
     "metadata": {},
     "output_type": "execute_result"
    }
   ],
   "source": [
    "np.amin(x)"
   ]
  },
  {
   "cell_type": "code",
   "execution_count": 197,
   "id": "75f23136-508c-40d6-8235-84e73a6b9ebd",
   "metadata": {},
   "outputs": [
    {
     "data": {
      "text/plain": [
       "46.0"
      ]
     },
     "execution_count": 197,
     "metadata": {},
     "output_type": "execute_result"
    }
   ],
   "source": [
    "np.amax(x) - np.amin(x)"
   ]
  },
  {
   "cell_type": "markdown",
   "id": "75b4f112-75b2-4914-90ce-91da3c347e5f",
   "metadata": {},
   "source": [
    "## Interquartile Range "
   ]
  },
  {
   "cell_type": "markdown",
   "id": "f7306e1e",
   "metadata": {},
   "source": [
    "Dapat digunakan untuk mencari data outlier"
   ]
  },
  {
   "cell_type": "code",
   "execution_count": 198,
   "id": "d31d42c4-f49a-4328-a1cd-d470afa74071",
   "metadata": {},
   "outputs": [
    {
     "data": {
      "text/plain": [
       "[-5, -1.1, 0.1, 2, 8, 12.8, 21, 25.8, 41]"
      ]
     },
     "execution_count": 198,
     "metadata": {},
     "output_type": "execute_result"
    }
   ],
   "source": [
    "x"
   ]
  },
  {
   "cell_type": "code",
   "execution_count": 199,
   "id": "2fd7fb79-5c6e-4741-8910-e6f82137acad",
   "metadata": {},
   "outputs": [
    {
     "data": {
      "text/plain": [
       "20.9"
      ]
     },
     "execution_count": 199,
     "metadata": {},
     "output_type": "execute_result"
    }
   ],
   "source": [
    "quartiles = np.quantile(x,[0.25,0.75])\n",
    "IQR = quartiles[1] - quartiles[0]\n",
    "IQR"
   ]
  },
  {
   "cell_type": "markdown",
   "id": "6d834955-e0cc-41d3-b8f0-b90464ce6f04",
   "metadata": {},
   "source": [
    "# Measure of Correlation"
   ]
  },
  {
   "cell_type": "code",
   "execution_count": 207,
   "id": "cf1edac5-ba32-4a41-9460-899c69ba9fbf",
   "metadata": {},
   "outputs": [],
   "source": [
    "x = list(range(-10,11))\n",
    "y = [0 , 2, 2, 2, 2, 3, 3, 6, 7, 4, 7, 6, 6, 9, 4, 5, 5, 10, 11, 12, 14]\n",
    "x_ar, y_ar = np.array(x),np.array(y)\n",
    "x_s,y_s = pd.Series(x),pd.Series(y)"
   ]
  },
  {
   "cell_type": "code",
   "execution_count": 208,
   "id": "c05d8ced-dc96-4b3e-9032-48bea997a2c8",
   "metadata": {},
   "outputs": [
    {
     "data": {
      "text/plain": [
       "True"
      ]
     },
     "execution_count": 208,
     "metadata": {},
     "output_type": "execute_result"
    }
   ],
   "source": [
    "len(x)==len(y)"
   ]
  },
  {
   "cell_type": "markdown",
   "id": "0ffdee56-0d28-4a6e-8a97-29d53e2e59e6",
   "metadata": {},
   "source": [
    "## Covariance"
   ]
  },
  {
   "cell_type": "code",
   "execution_count": 209,
   "id": "71f1e359-dd6c-47f3-adf7-8becbdbc2656",
   "metadata": {},
   "outputs": [
    {
     "data": {
      "text/plain": [
       "19.95"
      ]
     },
     "execution_count": 209,
     "metadata": {},
     "output_type": "execute_result"
    }
   ],
   "source": [
    "n = len(x)\n",
    "mean_x = np.mean(x)\n",
    "mean_y = np.mean(y)\n",
    "\n",
    "cov_xy = (sum((x[item]-mean_x)*(y[item]-mean_y) for item in range(n)))/(n-1)\n",
    "cov_xy"
   ]
  },
  {
   "cell_type": "code",
   "execution_count": 210,
   "id": "c1fd96d8-7cbe-4481-a7d3-d7bbf3fdca3d",
   "metadata": {},
   "outputs": [
    {
     "data": {
      "text/plain": [
       "array([[38.5       , 19.95      ],\n",
       "       [19.95      , 13.91428571]])"
      ]
     },
     "execution_count": 210,
     "metadata": {},
     "output_type": "execute_result"
    }
   ],
   "source": [
    "cov_matrix = np.cov(x,y)\n",
    "cov_matrix"
   ]
  },
  {
   "cell_type": "code",
   "execution_count": 211,
   "id": "d8551eea-401b-4a04-947c-eb0cbd530bde",
   "metadata": {},
   "outputs": [
    {
     "data": {
      "text/plain": [
       "38.5"
      ]
     },
     "execution_count": 211,
     "metadata": {},
     "output_type": "execute_result"
    }
   ],
   "source": [
    "np.var(x,ddof=1)"
   ]
  },
  {
   "cell_type": "code",
   "execution_count": 212,
   "id": "ba419921-19c3-4698-b5ff-6a79a4ddbcac",
   "metadata": {},
   "outputs": [
    {
     "data": {
      "text/plain": [
       "13.914285714285711"
      ]
     },
     "execution_count": 212,
     "metadata": {},
     "output_type": "execute_result"
    }
   ],
   "source": [
    "np.var(y,ddof=1)"
   ]
  },
  {
   "cell_type": "code",
   "execution_count": 213,
   "id": "5cee6b1d-068e-4a78-a8fa-e0f0cdb6be5b",
   "metadata": {},
   "outputs": [
    {
     "data": {
      "text/plain": [
       "19.95"
      ]
     },
     "execution_count": 213,
     "metadata": {},
     "output_type": "execute_result"
    }
   ],
   "source": [
    "cov_xy = cov_matrix[0,1]\n",
    "cov_xy"
   ]
  },
  {
   "cell_type": "code",
   "execution_count": 214,
   "id": "8488cc97-074a-49aa-ba1a-1f111de8d295",
   "metadata": {},
   "outputs": [
    {
     "data": {
      "text/plain": [
       "19.95"
      ]
     },
     "execution_count": 214,
     "metadata": {},
     "output_type": "execute_result"
    }
   ],
   "source": [
    "cov_xy = cov_matrix[1,0]\n",
    "cov_xy"
   ]
  },
  {
   "cell_type": "markdown",
   "id": "65c53a9d-ca5e-41a0-8f9c-9b98c9f3f721",
   "metadata": {},
   "source": [
    "## Correlation Coefficient"
   ]
  },
  {
   "cell_type": "markdown",
   "id": "8a3d7051-d689-4b3d-863b-61b6cc0d7dbf",
   "metadata": {},
   "source": [
    "r = 1 / r= -1 atau mendekati merupakan tanda kedua variabel mengalami multicollinearity"
   ]
  },
  {
   "cell_type": "code",
   "execution_count": 215,
   "id": "5d4ab399-891e-4ebb-aacb-4c8d4e3abeb6",
   "metadata": {},
   "outputs": [
    {
     "data": {
      "text/plain": [
       "0.861950005631606"
      ]
     },
     "execution_count": 215,
     "metadata": {},
     "output_type": "execute_result"
    }
   ],
   "source": [
    "var_x = np.var(x,ddof=1)\n",
    "var_y = np.var(y,ddof=1)\n",
    "cov_xy\n",
    "std_x = var_x**(1/2)\n",
    "std_y = var_y**(1/2)\n",
    "r = cov_xy / (std_x*std_y)\n",
    "r"
   ]
  },
  {
   "cell_type": "markdown",
   "id": "6353edd3-65f3-47e8-a5b0-ec6ff3455a22",
   "metadata": {},
   "source": [
    "Korelasi positif sangat kuat karena sangat mendekati 1"
   ]
  },
  {
   "cell_type": "code",
   "execution_count": 216,
   "id": "6f35c2d7-748e-4e34-8d80-483f867d1627",
   "metadata": {},
   "outputs": [
    {
     "data": {
      "text/plain": [
       "0.861950005631606"
      ]
     },
     "execution_count": 216,
     "metadata": {},
     "output_type": "execute_result"
    }
   ],
   "source": [
    "r , p = scipy.stats.pearsonr(x,y)\n",
    "r"
   ]
  },
  {
   "cell_type": "code",
   "execution_count": 219,
   "id": "0b5b5d3a",
   "metadata": {},
   "outputs": [
    {
     "data": {
      "text/plain": [
       "array([[1.        , 0.86195001],\n",
       "       [0.86195001, 1.        ]])"
      ]
     },
     "execution_count": 219,
     "metadata": {},
     "output_type": "execute_result"
    }
   ],
   "source": [
    "corr_matrix = np.corrcoef(x,y)\n",
    "corr_matrix"
   ]
  },
  {
   "cell_type": "code",
   "execution_count": 217,
   "id": "2ab025a8-2913-4c37-a00a-9bf4b3c2707a",
   "metadata": {},
   "outputs": [
    {
     "data": {
      "text/plain": [
       "5.122760847201171e-07"
      ]
     },
     "execution_count": 217,
     "metadata": {},
     "output_type": "execute_result"
    }
   ],
   "source": [
    "p"
   ]
  },
  {
   "cell_type": "code",
   "execution_count": 220,
   "id": "6c3f1d7f-f828-4ded-b445-7572a144478b",
   "metadata": {},
   "outputs": [
    {
     "data": {
      "text/plain": [
       "LinregressResult(slope=0.5181818181818181, intercept=5.714285714285714, rvalue=0.861950005631606, pvalue=5.122760847201164e-07, stderr=0.06992387660074979, intercept_stderr=0.4234100995002589)"
      ]
     },
     "execution_count": 220,
     "metadata": {},
     "output_type": "execute_result"
    }
   ],
   "source": [
    "scipy.stats.linregress(x,y)"
   ]
  },
  {
   "cell_type": "code",
   "execution_count": 221,
   "id": "1c458a4e",
   "metadata": {},
   "outputs": [
    {
     "data": {
      "text/plain": [
       "0.861950005631606"
      ]
     },
     "execution_count": 221,
     "metadata": {},
     "output_type": "execute_result"
    }
   ],
   "source": [
    "scipy.stats.linregress(x,y).rvalue"
   ]
  },
  {
   "cell_type": "code",
   "execution_count": 222,
   "id": "5f97b05b",
   "metadata": {},
   "outputs": [],
   "source": [
    "a = np.array([[1,1,1],\n",
    "             [2,3,1],\n",
    "             [4,9,2],\n",
    "             [8,27,4],\n",
    "             [16,1,1]])"
   ]
  },
  {
   "cell_type": "code",
   "execution_count": 224,
   "id": "2ed4e25b",
   "metadata": {},
   "outputs": [
    {
     "data": {
      "text/plain": [
       "5.4"
      ]
     },
     "execution_count": 224,
     "metadata": {},
     "output_type": "execute_result"
    }
   ],
   "source": [
    "np.mean(a)"
   ]
  },
  {
   "cell_type": "code",
   "execution_count": 225,
   "id": "aae95a71",
   "metadata": {},
   "outputs": [
    {
     "data": {
      "text/plain": [
       "array([6.2, 8.2, 1.8])"
      ]
     },
     "execution_count": 225,
     "metadata": {},
     "output_type": "execute_result"
    }
   ],
   "source": [
    "np.mean(a, axis = 0)"
   ]
  },
  {
   "cell_type": "code",
   "execution_count": 226,
   "id": "e04be6d0",
   "metadata": {},
   "outputs": [
    {
     "data": {
      "text/plain": [
       "array([ 1.,  2.,  5., 13.,  6.])"
      ]
     },
     "execution_count": 226,
     "metadata": {},
     "output_type": "execute_result"
    }
   ],
   "source": [
    "np.mean(a, axis = 1)"
   ]
  },
  {
   "cell_type": "code",
   "execution_count": 230,
   "id": "ae7cbf47",
   "metadata": {},
   "outputs": [
    {
     "data": {
      "text/plain": [
       "array([ 37.2, 121.2,   1.7])"
      ]
     },
     "execution_count": 230,
     "metadata": {},
     "output_type": "execute_result"
    }
   ],
   "source": [
    "np.var(a,ddof=1,axis=0)"
   ]
  },
  {
   "cell_type": "code",
   "execution_count": 231,
   "id": "584f7c9b",
   "metadata": {},
   "outputs": [
    {
     "data": {
      "text/html": [
       "<div>\n",
       "<style scoped>\n",
       "    .dataframe tbody tr th:only-of-type {\n",
       "        vertical-align: middle;\n",
       "    }\n",
       "\n",
       "    .dataframe tbody tr th {\n",
       "        vertical-align: top;\n",
       "    }\n",
       "\n",
       "    .dataframe thead th {\n",
       "        text-align: right;\n",
       "    }\n",
       "</style>\n",
       "<table border=\"1\" class=\"dataframe\">\n",
       "  <thead>\n",
       "    <tr style=\"text-align: right;\">\n",
       "      <th></th>\n",
       "      <th>A</th>\n",
       "      <th>B</th>\n",
       "      <th>C</th>\n",
       "    </tr>\n",
       "  </thead>\n",
       "  <tbody>\n",
       "    <tr>\n",
       "      <th>first</th>\n",
       "      <td>1</td>\n",
       "      <td>1</td>\n",
       "      <td>1</td>\n",
       "    </tr>\n",
       "    <tr>\n",
       "      <th>second</th>\n",
       "      <td>2</td>\n",
       "      <td>3</td>\n",
       "      <td>1</td>\n",
       "    </tr>\n",
       "    <tr>\n",
       "      <th>third</th>\n",
       "      <td>4</td>\n",
       "      <td>9</td>\n",
       "      <td>2</td>\n",
       "    </tr>\n",
       "    <tr>\n",
       "      <th>fourth</th>\n",
       "      <td>8</td>\n",
       "      <td>27</td>\n",
       "      <td>4</td>\n",
       "    </tr>\n",
       "    <tr>\n",
       "      <th>fifth</th>\n",
       "      <td>16</td>\n",
       "      <td>1</td>\n",
       "      <td>1</td>\n",
       "    </tr>\n",
       "  </tbody>\n",
       "</table>\n",
       "</div>"
      ],
      "text/plain": [
       "         A   B  C\n",
       "first    1   1  1\n",
       "second   2   3  1\n",
       "third    4   9  2\n",
       "fourth   8  27  4\n",
       "fifth   16   1  1"
      ]
     },
     "execution_count": 231,
     "metadata": {},
     "output_type": "execute_result"
    }
   ],
   "source": [
    "row_names = ['first','second','third','fourth','fifth']\n",
    "col_names=['A','B','C']\n",
    "df = pd.DataFrame(a,index=row_names,columns=col_names)\n",
    "df"
   ]
  },
  {
   "cell_type": "code",
   "execution_count": 232,
   "id": "02a334e4",
   "metadata": {},
   "outputs": [
    {
     "data": {
      "text/plain": [
       "6.2"
      ]
     },
     "execution_count": 232,
     "metadata": {},
     "output_type": "execute_result"
    }
   ],
   "source": [
    "np.mean(df.A)"
   ]
  },
  {
   "cell_type": "code",
   "execution_count": 233,
   "id": "ca230cc0",
   "metadata": {},
   "outputs": [
    {
     "data": {
      "text/plain": [
       "6.2"
      ]
     },
     "execution_count": 233,
     "metadata": {},
     "output_type": "execute_result"
    }
   ],
   "source": [
    "df['A'].mean()"
   ]
  },
  {
   "cell_type": "code",
   "execution_count": 235,
   "id": "c44f0c3d",
   "metadata": {},
   "outputs": [
    {
     "data": {
      "text/plain": [
       "A     37.2\n",
       "B    121.2\n",
       "C      1.7\n",
       "dtype: float64"
      ]
     },
     "execution_count": 235,
     "metadata": {},
     "output_type": "execute_result"
    }
   ],
   "source": [
    "np.var(df,ddof=1)"
   ]
  },
  {
   "cell_type": "code",
   "execution_count": 240,
   "id": "c86b6b8b",
   "metadata": {},
   "outputs": [
    {
     "data": {
      "text/plain": [
       "A    29.76\n",
       "B    96.96\n",
       "C     1.36\n",
       "dtype: float64"
      ]
     },
     "execution_count": 240,
     "metadata": {},
     "output_type": "execute_result"
    }
   ],
   "source": [
    "np.var(df,ddof=0)"
   ]
  },
  {
   "cell_type": "code",
   "execution_count": null,
   "id": "3de2779f",
   "metadata": {},
   "outputs": [],
   "source": [
    "df.mean"
   ]
  }
 ],
 "metadata": {
  "kernelspec": {
   "display_name": "Python 3 (ipykernel)",
   "language": "python",
   "name": "python3"
  },
  "language_info": {
   "codemirror_mode": {
    "name": "ipython",
    "version": 3
   },
   "file_extension": ".py",
   "mimetype": "text/x-python",
   "name": "python",
   "nbconvert_exporter": "python",
   "pygments_lexer": "ipython3",
   "version": "3.9.13"
  },
  "toc": {
   "base_numbering": 1,
   "nav_menu": {},
   "number_sections": true,
   "sideBar": true,
   "skip_h1_title": false,
   "title_cell": "Table of Contents",
   "title_sidebar": "Contents",
   "toc_cell": false,
   "toc_position": {
    "height": "397.333px",
    "left": "21px",
    "top": "110.229px",
    "width": "256px"
   },
   "toc_section_display": true,
   "toc_window_display": true
  },
  "varInspector": {
   "cols": {
    "lenName": 16,
    "lenType": 16,
    "lenVar": 40
   },
   "kernels_config": {
    "python": {
     "delete_cmd_postfix": "",
     "delete_cmd_prefix": "del ",
     "library": "var_list.py",
     "varRefreshCmd": "print(var_dic_list())"
    },
    "r": {
     "delete_cmd_postfix": ") ",
     "delete_cmd_prefix": "rm(",
     "library": "var_list.r",
     "varRefreshCmd": "cat(var_dic_list()) "
    }
   },
   "types_to_exclude": [
    "module",
    "function",
    "builtin_function_or_method",
    "instance",
    "_Feature"
   ],
   "window_display": false
  }
 },
 "nbformat": 4,
 "nbformat_minor": 5
}
