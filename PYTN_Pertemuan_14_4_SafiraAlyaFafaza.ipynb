{
 "cells": [
  {
   "cell_type": "markdown",
   "id": "f139b5fb",
   "metadata": {},
   "source": [
    "Unsupervised Learning"
   ]
  },
  {
   "cell_type": "markdown",
   "id": "15ad0bb5",
   "metadata": {},
   "source": [
    "Unsupervised machine learning algorithm digunakan untuk mengelompokkan data tidak terstruktur menurut kesamaan dan pola yang berbeda dalam kumpulan data."
   ]
  },
  {
   "cell_type": "markdown",
   "id": "e576d5b9",
   "metadata": {},
   "source": [
    "# Principal Component Analysis"
   ]
  },
  {
   "cell_type": "markdown",
   "id": "d583a5ab",
   "metadata": {},
   "source": [
    "Principal Component Analysis (PCA) adalah teknik linear dimensionality reduction yang dapat digunakan untuk mengekstraksi informasi dari ruang dimensi tinggi dengan memproyeksikannya ke dalam sub-ruang berdimensi lebih rendah. PCA mencoba untuk mempertahankan bagian penting yang memiliki lebih banyak variasi data dan menghapus bagian yang tidak penting dengan variasi yang lebih sedikit."
   ]
  },
  {
   "cell_type": "code",
   "execution_count": 1,
   "id": "04028ba7",
   "metadata": {},
   "outputs": [],
   "source": [
    "import numpy as np\n",
    "import pandas as pd"
   ]
  },
  {
   "cell_type": "code",
   "execution_count": 2,
   "id": "0c1afe0e",
   "metadata": {},
   "outputs": [],
   "source": [
    "data = np.matrix([[1,2,4],\n",
    "               [4,1,2],\n",
    "               [5,4,8]])"
   ]
  },
  {
   "cell_type": "code",
   "execution_count": 3,
   "id": "746f5784",
   "metadata": {},
   "outputs": [],
   "source": [
    "df = pd.DataFrame(data)"
   ]
  },
  {
   "cell_type": "code",
   "execution_count": 4,
   "id": "1310c746",
   "metadata": {},
   "outputs": [
    {
     "data": {
      "text/html": [
       "<div>\n",
       "<style scoped>\n",
       "    .dataframe tbody tr th:only-of-type {\n",
       "        vertical-align: middle;\n",
       "    }\n",
       "\n",
       "    .dataframe tbody tr th {\n",
       "        vertical-align: top;\n",
       "    }\n",
       "\n",
       "    .dataframe thead th {\n",
       "        text-align: right;\n",
       "    }\n",
       "</style>\n",
       "<table border=\"1\" class=\"dataframe\">\n",
       "  <thead>\n",
       "    <tr style=\"text-align: right;\">\n",
       "      <th></th>\n",
       "      <th>0</th>\n",
       "      <th>1</th>\n",
       "      <th>2</th>\n",
       "    </tr>\n",
       "  </thead>\n",
       "  <tbody>\n",
       "    <tr>\n",
       "      <th>0</th>\n",
       "      <td>1</td>\n",
       "      <td>2</td>\n",
       "      <td>4</td>\n",
       "    </tr>\n",
       "    <tr>\n",
       "      <th>1</th>\n",
       "      <td>4</td>\n",
       "      <td>1</td>\n",
       "      <td>2</td>\n",
       "    </tr>\n",
       "    <tr>\n",
       "      <th>2</th>\n",
       "      <td>5</td>\n",
       "      <td>4</td>\n",
       "      <td>8</td>\n",
       "    </tr>\n",
       "  </tbody>\n",
       "</table>\n",
       "</div>"
      ],
      "text/plain": [
       "   0  1  2\n",
       "0  1  2  4\n",
       "1  4  1  2\n",
       "2  5  4  8"
      ]
     },
     "execution_count": 4,
     "metadata": {},
     "output_type": "execute_result"
    }
   ],
   "source": [
    "df"
   ]
  },
  {
   "cell_type": "markdown",
   "id": "62a6ffdb",
   "metadata": {},
   "source": [
    "## Manual Calculation"
   ]
  },
  {
   "cell_type": "code",
   "execution_count": 5,
   "id": "db7d5a82",
   "metadata": {},
   "outputs": [
    {
     "name": "stdout",
     "output_type": "stream",
     "text": [
      "          0         1         2\n",
      "0 -1.120897 -0.218218 -0.218218\n",
      "1  0.320256 -0.872872 -0.872872\n",
      "2  0.800641  1.091089  1.091089\n"
     ]
    }
   ],
   "source": [
    "# Standardize data \n",
    "standard_data = (df - df.mean()) / df.std()\n",
    "print(standard_data)"
   ]
  },
  {
   "cell_type": "code",
   "execution_count": 6,
   "id": "9b295aba",
   "metadata": {},
   "outputs": [
    {
     "name": "stdout",
     "output_type": "stream",
     "text": [
      "[[0.66666667 0.27954262 0.27954262]\n",
      " [0.27954262 0.66666667 0.66666667]\n",
      " [0.27954262 0.66666667 0.66666667]]\n"
     ]
    }
   ],
   "source": [
    "# Finding covariance\n",
    "covarance = np.cov(standard_data.T, bias = 1)\n",
    "print(covarance)"
   ]
  },
  {
   "cell_type": "code",
   "execution_count": 7,
   "id": "316ba54a",
   "metadata": {},
   "outputs": [
    {
     "name": "stdout",
     "output_type": "stream",
     "text": [
      "[ 1.51710663e+00  4.82893369e-01 -9.20271082e-33] [[-4.21537439e-01 -9.06810999e-01 -5.84783617e-17]\n",
      " [-6.41212207e-01  2.98071982e-01 -7.07106781e-01]\n",
      " [-6.41212207e-01  2.98071982e-01  7.07106781e-01]]\n"
     ]
    }
   ],
   "source": [
    "# find eigen value& eigen vector\n",
    "eigenvalue, eigenvectors = np.linalg.eig(covarance)\n",
    "\n",
    "print(eigenvalue, eigenvectors)"
   ]
  },
  {
   "cell_type": "code",
   "execution_count": 8,
   "id": "6d78d2d6",
   "metadata": {},
   "outputs": [],
   "source": [
    "# Find PCA\n",
    "n_components = 2"
   ]
  },
  {
   "cell_type": "code",
   "execution_count": 9,
   "id": "210ff2a5",
   "metadata": {},
   "outputs": [
    {
     "name": "stdout",
     "output_type": "stream",
     "text": [
      "[[ 7.52348033e-01  8.86352520e-01  2.77555756e-17]\n",
      " [ 9.84391775e-01 -8.10769054e-01 -1.11022302e-16]\n",
      " [-1.73673981e+00 -7.55834658e-02  2.22044605e-16]]\n"
     ]
    }
   ],
   "source": [
    "pca_manual = np.matmul(np.array(standard_data),eigenvectors)\n",
    "print(pca_manual)"
   ]
  },
  {
   "cell_type": "code",
   "execution_count": 10,
   "id": "7e9803ef",
   "metadata": {},
   "outputs": [
    {
     "name": "stdout",
     "output_type": "stream",
     "text": [
      "[[ 0.75234803  0.88635252]\n",
      " [ 0.98439178 -0.81076905]\n",
      " [-1.73673981 -0.07558347]]\n"
     ]
    }
   ],
   "source": [
    "pca_manual  = pca_manual[:,:n_components]\n",
    "print(pca_manual)"
   ]
  },
  {
   "cell_type": "code",
   "execution_count": 11,
   "id": "2eddb324",
   "metadata": {},
   "outputs": [
    {
     "name": "stdout",
     "output_type": "stream",
     "text": [
      "Standardized data\n",
      "      0     1     2\n",
      "0 -1.12 -0.22 -0.22\n",
      "1  0.32 -0.87 -0.87\n",
      "2  0.80  1.09  1.09\n",
      "\n",
      "Covariance\n",
      "[[0.67 0.28 0.28]\n",
      " [0.28 0.67 0.67]\n",
      " [0.28 0.67 0.67]]\n",
      "\n",
      "eigen_value\n",
      "[ 1.5171  0.4829 -0.    ]\n",
      "\n",
      "eigen_vector\n",
      "[[-0.4215 -0.9068 -0.    ]\n",
      " [-0.6412  0.2981 -0.7071]\n",
      " [-0.6412  0.2981  0.7071]]\n",
      "\n",
      "PCA manually calculated\n",
      "[[ 0.75  0.89]\n",
      " [ 0.98 -0.81]\n",
      " [-1.74 -0.08]]\n",
      "\n"
     ]
    }
   ],
   "source": [
    "print('Standardized data')\n",
    "print(standard_data.round(2))\n",
    "print('')\n",
    "\n",
    "print('Covariance')\n",
    "print(covarance.round(2))\n",
    "print('')\n",
    "\n",
    "print('eigen_value')\n",
    "print(eigenvalue.round(4))\n",
    "print('')\n",
    "\n",
    "\n",
    "print('eigen_vector')\n",
    "print(eigenvectors.round(4))\n",
    "print('')\n",
    "\n",
    "print('PCA manually calculated')\n",
    "print(pca_manual.round(2))\n",
    "print('')"
   ]
  },
  {
   "cell_type": "markdown",
   "id": "e036dabc",
   "metadata": {},
   "source": [
    "## Menggunakan SKlearn"
   ]
  },
  {
   "cell_type": "code",
   "execution_count": null,
   "id": "edfaf338",
   "metadata": {},
   "outputs": [],
   "source": [
    "pip install sklearn"
   ]
  },
  {
   "cell_type": "code",
   "execution_count": null,
   "id": "0ad47683",
   "metadata": {},
   "outputs": [],
   "source": [
    "from sklearn.decomposition import PCA"
   ]
  },
  {
   "cell_type": "code",
   "execution_count": null,
   "id": "50b78b0f",
   "metadata": {},
   "outputs": [],
   "source": [
    "# PCA\n",
    "pca_sklearn = (PCA(n_components).fit_transform(standard_data))\n",
    "\n",
    "print('PCA - sklearn')\n",
    "print(pca_sklearn.round(2))"
   ]
  },
  {
   "cell_type": "code",
   "execution_count": null,
   "id": "b2e57237",
   "metadata": {},
   "outputs": [],
   "source": [
    "print('PCA manually calculated')\n",
    "print(pca_manual.round(2))"
   ]
  },
  {
   "cell_type": "markdown",
   "id": "7badf0b9",
   "metadata": {},
   "source": [
    "## Menggunakan Python (Iris Dataset)"
   ]
  },
  {
   "cell_type": "code",
   "execution_count": null,
   "id": "9409acb6",
   "metadata": {},
   "outputs": [],
   "source": [
    "import pandas as pd\n",
    "import numpy as np\n",
    "from sklearn.decomposition import PCA\n",
    "from sklearn import preprocessing\n",
    "import matplotlib.pyplot as plt"
   ]
  },
  {
   "cell_type": "code",
   "execution_count": null,
   "id": "e3a44cab",
   "metadata": {},
   "outputs": [],
   "source": [
    "url = \"https://archive.ics.uci.edu/ml/machine-learning-databases/iris/iris.data\"\n",
    "\n",
    "df = pd.read_csv(url, names=['sepal length', 'sepal width' , 'petal lenght', 'petal width', 'target'])"
   ]
  },
  {
   "cell_type": "code",
   "execution_count": null,
   "id": "c42d539d",
   "metadata": {},
   "outputs": [],
   "source": [
    "df"
   ]
  },
  {
   "cell_type": "markdown",
   "id": "37f58b7f",
   "metadata": {},
   "source": [
    "**Standarisasi Data**"
   ]
  },
  {
   "cell_type": "code",
   "execution_count": null,
   "id": "4aede009",
   "metadata": {},
   "outputs": [],
   "source": [
    "from sklearn.preprocessing import StandardScaler\n",
    "\n",
    "features = ['sepal length','sepal width','petal lenght','petal width']"
   ]
  },
  {
   "cell_type": "code",
   "execution_count": null,
   "id": "d7836a81",
   "metadata": {},
   "outputs": [],
   "source": [
    "# feature\n",
    "x = df.loc[:, features].values\n",
    "\n",
    "# target\n",
    "y = df.loc[:, ['target']].values"
   ]
  },
  {
   "cell_type": "code",
   "execution_count": null,
   "id": "6093e843",
   "metadata": {},
   "outputs": [],
   "source": [
    "# scale the features\n",
    "x = StandardScaler().fit_transform(x)\n",
    "x"
   ]
  },
  {
   "cell_type": "code",
   "execution_count": null,
   "id": "6ada3b20",
   "metadata": {},
   "outputs": [],
   "source": [
    "# PCA untuk dua Komponen Utama\n",
    "pca = PCA(n_components=2)\n",
    "\n",
    "principalComponents = pca.fit_transform(x)\n",
    "\n",
    "principalDataframe = pd.DataFrame(data = principalComponents, columns = ['PC1', 'PC2'])"
   ]
  },
  {
   "cell_type": "code",
   "execution_count": null,
   "id": "39ad92ca",
   "metadata": {},
   "outputs": [],
   "source": [
    "principalDataframe"
   ]
  },
  {
   "cell_type": "code",
   "execution_count": null,
   "id": "4722bd95",
   "metadata": {},
   "outputs": [],
   "source": [
    "targetDataframe = df[['target']]\n",
    "\n",
    "newDataframe = pd.concat([principalDataframe, targetDataframe],axis = 1)"
   ]
  },
  {
   "cell_type": "code",
   "execution_count": null,
   "id": "f04e9f75",
   "metadata": {},
   "outputs": [],
   "source": [
    "newDataframe"
   ]
  },
  {
   "cell_type": "code",
   "execution_count": null,
   "id": "5e9564ce",
   "metadata": {},
   "outputs": [],
   "source": [
    "percent_variance = np.round(pca.explained_variance_ratio_* 100, decimals =2)\n",
    "columns = ['PC1', 'PC2']"
   ]
  },
  {
   "cell_type": "code",
   "execution_count": null,
   "id": "4cf0b703",
   "metadata": {},
   "outputs": [],
   "source": [
    "list(percent_variance)"
   ]
  },
  {
   "cell_type": "code",
   "execution_count": null,
   "id": "ef7a2ff7",
   "metadata": {},
   "outputs": [],
   "source": [
    "plt.bar(x= list(range(1,3)), height=list(percent_variance), tick_label=columns)\n",
    "plt.ylabel('Percentate of Variance Explained')\n",
    "plt.xlabel('Principal Component (PC)')\n",
    "plt.title('PCA Scree Plot')\n",
    "plt.show()"
   ]
  },
  {
   "cell_type": "code",
   "execution_count": null,
   "id": "76399fa5",
   "metadata": {},
   "outputs": [],
   "source": [
    "plt.scatter(principalDataframe.PC1, principalDataframe.PC2)\n",
    "plt.title('PC1 against PC2')\n",
    "plt.xlabel('PC1')\n",
    "plt.ylabel('PC2')"
   ]
  },
  {
   "cell_type": "code",
   "execution_count": null,
   "id": "66933b0e",
   "metadata": {},
   "outputs": [],
   "source": [
    "fig = plt.figure(figsize = (8,8))\n",
    "ax = fig.add_subplot(1,1,1) \n",
    "ax.set_xlabel('PC1')\n",
    "ax.set_ylabel('PC2')\n",
    "\n",
    "ax.set_title('Plot of PC1 vs PC2', fontsize = 20)\n",
    "\n",
    "targets = ['Iris-setosa', 'Iris-versicolor', 'Iris-virginica']\n",
    "# menyiapkan warna yang berbeda tiap target \n",
    "colors = ['r', 'g', 'b']\n",
    "\n",
    "for target, color in zip(targets,colors):\n",
    "    indicesToKeep = newDataframe['target'] == target\n",
    "    ax.scatter(newDataframe.loc[indicesToKeep, 'PC1']\n",
    "               , newDataframe.loc[indicesToKeep, 'PC2']\n",
    "               , c = color\n",
    "               , s = 50)\n",
    "    \n",
    "ax.legend(targets)\n",
    "ax.grid()"
   ]
  },
  {
   "cell_type": "code",
   "execution_count": null,
   "id": "fcc4de66",
   "metadata": {},
   "outputs": [],
   "source": [
    "pca.explained_variance_ratio_"
   ]
  },
  {
   "cell_type": "markdown",
   "id": "4e763393",
   "metadata": {},
   "source": [
    "## Menggunakan Python (Breast Cancer Dataset)"
   ]
  },
  {
   "cell_type": "code",
   "execution_count": null,
   "id": "9b492127",
   "metadata": {},
   "outputs": [],
   "source": [
    "from sklearn.datasets import load_breast_cancer"
   ]
  },
  {
   "cell_type": "code",
   "execution_count": null,
   "id": "296b37d1",
   "metadata": {},
   "outputs": [],
   "source": [
    "breast = load_breast_cancer()\n",
    "breast_data = breast.data\n",
    "breast_data.shape"
   ]
  },
  {
   "cell_type": "code",
   "execution_count": null,
   "id": "2576e0c4",
   "metadata": {},
   "outputs": [],
   "source": [
    "breast_labels = breast.target\n",
    "breast_labels.shape"
   ]
  },
  {
   "cell_type": "code",
   "execution_count": null,
   "id": "3e612418",
   "metadata": {},
   "outputs": [],
   "source": [
    "import numpy as np\n",
    "import pandas as pd "
   ]
  },
  {
   "cell_type": "code",
   "execution_count": null,
   "id": "a8791798",
   "metadata": {},
   "outputs": [],
   "source": [
    "labels = np.reshape(breast_labels,(569,1))"
   ]
  },
  {
   "cell_type": "code",
   "execution_count": null,
   "id": "28d7260b",
   "metadata": {},
   "outputs": [],
   "source": [
    "final_breast_data = np.concatenate([breast_data,labels],axis=1)\n",
    "final_breast_data.shape"
   ]
  },
  {
   "cell_type": "code",
   "execution_count": null,
   "id": "097232f5",
   "metadata": {},
   "outputs": [],
   "source": [
    "breast_dataset = pd.DataFrame(final_breast_data)\n",
    "features = breast.feature_names\n",
    "features"
   ]
  },
  {
   "cell_type": "code",
   "execution_count": null,
   "id": "51cb559c",
   "metadata": {},
   "outputs": [],
   "source": [
    "features_labels = np.append(features,'label')"
   ]
  },
  {
   "cell_type": "code",
   "execution_count": null,
   "id": "021d8540",
   "metadata": {},
   "outputs": [],
   "source": [
    "breast_dataset.columns = features_labels\n",
    "breast_dataset.head()"
   ]
  },
  {
   "cell_type": "code",
   "execution_count": null,
   "id": "06cc337c",
   "metadata": {},
   "outputs": [],
   "source": [
    "breast_dataset['label'].replace(0, 'Benign',inplace=True)\n",
    "breast_dataset['label'].replace(1, 'Malignant',inplace=True)\n",
    "breast_dataset.tail()"
   ]
  },
  {
   "cell_type": "markdown",
   "id": "a6eb1921",
   "metadata": {},
   "source": [
    "**Standarisasi Data**"
   ]
  },
  {
   "cell_type": "code",
   "execution_count": null,
   "id": "fa31e085",
   "metadata": {},
   "outputs": [],
   "source": [
    "from sklearn.preprocessing import StandardScaler\n",
    "x = breast_dataset.loc[:, features].values\n",
    "x = StandardScaler().fit_transform(x) # normalizing the features\n",
    "x.shape"
   ]
  },
  {
   "cell_type": "code",
   "execution_count": null,
   "id": "3beed892",
   "metadata": {},
   "outputs": [],
   "source": [
    "feat_cols = ['feature'+str(i) for i in range(x.shape[1])]\n",
    "normalised_breast = pd.DataFrame(x,columns=feat_cols)\n",
    "normalised_breast.tail()"
   ]
  },
  {
   "cell_type": "code",
   "execution_count": null,
   "id": "cc46b479",
   "metadata": {},
   "outputs": [],
   "source": [
    "from sklearn.decomposition import PCA\n",
    "pca_breast = PCA(n_components=2)\n",
    "principalComponents_breast = pca_breast.fit_transform(x)\n",
    "principalComponents_breast"
   ]
  },
  {
   "cell_type": "code",
   "execution_count": null,
   "id": "3c9808d4",
   "metadata": {},
   "outputs": [],
   "source": [
    "principal_breast_Df = pd.DataFrame(data=principalComponents_breast,\n",
    "                                   columns=['principal component 1', 'principal component 2'])\n",
    "principal_breast_Df.tail()"
   ]
  },
  {
   "cell_type": "code",
   "execution_count": null,
   "id": "4de035fc",
   "metadata": {},
   "outputs": [],
   "source": [
    "print('Explained variation per principal component: {}'.format(pca_breast.explained_variance_ratio_))"
   ]
  },
  {
   "cell_type": "code",
   "execution_count": null,
   "id": "a14d54f6",
   "metadata": {},
   "outputs": [],
   "source": [
    "import matplotlib as mpl\n",
    "import matplotlib.pyplot as plt\n",
    "\n",
    "%matplotlib inline\n",
    "\n",
    "plt.figure()\n",
    "plt.figure(figsize=(10,10))\n",
    "plt.xticks(fontsize=12)\n",
    "plt.yticks(fontsize=14)\n",
    "plt.xlabel('Principal Component - 1',fontsize=20)\n",
    "plt.ylabel('Principal Component - 2',fontsize=20)\n",
    "plt.title(\"Principal Component Analysis of Breast Cancer Dataset\",fontsize=20)\n",
    "targets = ['Benign', 'Malignant']\n",
    "colors = ['r', 'g']\n",
    "for target, color in zip(targets,colors):\n",
    "    indicesToKeep = breast_dataset['label'] == target\n",
    "    plt.scatter(principal_breast_Df.loc[indicesToKeep, 'principal component 1']\n",
    "               , principal_breast_Df.loc[indicesToKeep, 'principal component 2'], c = color, s = 50)\n",
    "\n",
    "plt.legend(targets,prop={'size': 15})\n",
    "\n",
    "plt.show()"
   ]
  },
  {
   "cell_type": "markdown",
   "id": "a539db1c",
   "metadata": {},
   "source": [
    "# K-Means Clustering"
   ]
  },
  {
   "cell_type": "code",
   "execution_count": null,
   "id": "64b67a68",
   "metadata": {},
   "outputs": [],
   "source": [
    "!pip install kneed"
   ]
  },
  {
   "cell_type": "code",
   "execution_count": null,
   "id": "651b7e4f",
   "metadata": {},
   "outputs": [],
   "source": [
    "import matplotlib.pyplot as plt\n",
    "\n",
    "from sklearn.datasets import make_blobs\n",
    "from sklearn.cluster import KMeans\n",
    "from sklearn.metrics import silhouette_score\n",
    "from sklearn.preprocessing import StandardScaler"
   ]
  },
  {
   "cell_type": "code",
   "execution_count": null,
   "id": "36324f0c",
   "metadata": {},
   "outputs": [],
   "source": [
    "features, true_labels = make_blobs(\n",
    "    n_samples=200, centers=3, cluster_std=2.75, random_state=42\n",
    ")"
   ]
  },
  {
   "cell_type": "code",
   "execution_count": null,
   "id": "23c7c5b7",
   "metadata": {},
   "outputs": [],
   "source": [
    "features[:5]"
   ]
  },
  {
   "cell_type": "code",
   "execution_count": null,
   "id": "20234905",
   "metadata": {},
   "outputs": [],
   "source": [
    "true_labels[:5]"
   ]
  },
  {
   "cell_type": "code",
   "execution_count": null,
   "id": "98be6145",
   "metadata": {},
   "outputs": [],
   "source": [
    "scaler = StandardScaler()\n",
    "scaled_features = scaler.fit_transform(features)"
   ]
  },
  {
   "cell_type": "code",
   "execution_count": null,
   "id": "a62de3ff",
   "metadata": {},
   "outputs": [],
   "source": [
    "scaled_features[:5]"
   ]
  },
  {
   "cell_type": "code",
   "execution_count": null,
   "id": "9d83f657",
   "metadata": {},
   "outputs": [],
   "source": [
    "kmeans = KMeans(\n",
    "    init=\"random\",\n",
    "    n_clusters=3,\n",
    "    n_init=10,\n",
    "    max_iter=300,\n",
    "    random_state=42\n",
    ")"
   ]
  },
  {
   "cell_type": "code",
   "execution_count": null,
   "id": "767fc715",
   "metadata": {},
   "outputs": [],
   "source": [
    "kmeans.fit(scaled_features)"
   ]
  },
  {
   "cell_type": "code",
   "execution_count": null,
   "id": "f4c87368",
   "metadata": {},
   "outputs": [],
   "source": [
    "# The lowest SSE value\n",
    "kmeans.inertia_"
   ]
  },
  {
   "cell_type": "code",
   "execution_count": null,
   "id": "5decb69e",
   "metadata": {},
   "outputs": [],
   "source": [
    "# Final locations of the centroid\n",
    "kmeans.cluster_centers_"
   ]
  },
  {
   "cell_type": "code",
   "execution_count": null,
   "id": "ab17bfc0",
   "metadata": {},
   "outputs": [],
   "source": [
    "# The number of iterations required to converge\n",
    "kmeans.n_iter_"
   ]
  },
  {
   "cell_type": "code",
   "execution_count": null,
   "id": "f2e777b6",
   "metadata": {},
   "outputs": [],
   "source": [
    "kmeans.labels_[:5]"
   ]
  },
  {
   "cell_type": "code",
   "execution_count": null,
   "id": "e3dc1547",
   "metadata": {},
   "outputs": [],
   "source": [
    "# How to Choose the Number of Clusters\n",
    "kmeans_kwargs = {\n",
    "    \"init\": \"random\",\n",
    "    \"n_init\": 10,\n",
    "    \"max_iter\": 300,\n",
    "    \"random_state\": 42,\n",
    "}\n",
    "\n",
    "# A list holds the SSE values for each k\n",
    "sse = []\n",
    "for k in range(1, 11):\n",
    "    kmeans = KMeans(n_clusters=k, **kmeans_kwargs)\n",
    "    kmeans.fit(scaled_features)\n",
    "    sse.append(kmeans.inertia_)"
   ]
  },
  {
   "cell_type": "code",
   "execution_count": null,
   "id": "dbbc2b10",
   "metadata": {},
   "outputs": [],
   "source": [
    "plt.style.use(\"fivethirtyeight\")\n",
    "plt.plot(range(1, 11), sse)\n",
    "plt.xticks(range(1, 11))\n",
    "plt.xlabel(\"Number of Clusters\")\n",
    "plt.ylabel(\"SSE\")\n",
    "plt.show()"
   ]
  },
  {
   "cell_type": "code",
   "execution_count": null,
   "id": "202cbeea",
   "metadata": {},
   "outputs": [],
   "source": [
    "# A list holds the silhouette coefficients for each k\n",
    "silhouette_coefficients = []\n",
    "\n",
    "# Notice we start at 2 clusters for silhouette coefficient\n",
    "for k in range(2, 11):\n",
    "    kmeans = KMeans(n_clusters=k, **kmeans_kwargs)\n",
    "    kmeans.fit(scaled_features)\n",
    "    score = silhouette_score(scaled_features, kmeans.labels_)\n",
    "    silhouette_coefficients.append(score)"
   ]
  },
  {
   "cell_type": "code",
   "execution_count": null,
   "id": "88abf90a",
   "metadata": {},
   "outputs": [],
   "source": [
    "plt.style.use(\"fivethirtyeight\")\n",
    "plt.plot(range(2, 11), silhouette_coefficients)\n",
    "plt.xticks(range(2, 11))\n",
    "plt.xlabel(\"Number of Clusters\")\n",
    "plt.ylabel(\"Silhouette Coefficient\")\n",
    "plt.show()"
   ]
  },
  {
   "cell_type": "markdown",
   "id": "18b1c5f4",
   "metadata": {},
   "source": [
    "# Density Based Spatial Clustering Algorithm with Noise (DBSCAN)"
   ]
  },
  {
   "cell_type": "markdown",
   "id": "f3a7bc1b",
   "metadata": {},
   "source": [
    "Density – Based Spatial Clustering Algorithm With Noise (DBSCAN) adalah algoritma pengelompokan yang didasarkan pada kepadatan (density) data."
   ]
  },
  {
   "cell_type": "code",
   "execution_count": null,
   "id": "b2d2fed8",
   "metadata": {},
   "outputs": [],
   "source": [
    "import matplotlib.pyplot as plt\n",
    "from sklearn import datasets\n",
    "from sklearn.cluster import DBSCAN\n",
    "from sklearn.decomposition import PCA "
   ]
  },
  {
   "cell_type": "code",
   "execution_count": null,
   "id": "c5411eb6",
   "metadata": {},
   "outputs": [],
   "source": [
    "bunga = datasets.load_iris()"
   ]
  },
  {
   "cell_type": "code",
   "execution_count": null,
   "id": "bb0c1938",
   "metadata": {},
   "outputs": [],
   "source": [
    "print(dir(bunga))"
   ]
  },
  {
   "cell_type": "code",
   "execution_count": null,
   "id": "0be067ba",
   "metadata": {},
   "outputs": [],
   "source": [
    "print(bunga.feature_names)"
   ]
  },
  {
   "cell_type": "code",
   "execution_count": null,
   "id": "f6cd8a6a",
   "metadata": {},
   "outputs": [],
   "source": [
    "print(bunga.target_names)"
   ]
  },
  {
   "cell_type": "code",
   "execution_count": null,
   "id": "d8e09dd6",
   "metadata": {},
   "outputs": [],
   "source": [
    "x_axis = bunga.data[:,0] \n",
    "y_axis = bunga.data[:,2]"
   ]
  },
  {
   "cell_type": "code",
   "execution_count": null,
   "id": "b3afda1c",
   "metadata": {},
   "outputs": [],
   "source": [
    "plt.scatter(x_axis,y_axis, c=bunga.target)\n",
    "plt.xlabel(\"Sepal lenght\")\n",
    "plt.ylabel(\"Sepal with\") \n",
    "plt.title(\"Bunga Iris\")\n",
    "plt.show()"
   ]
  },
  {
   "cell_type": "code",
   "execution_count": null,
   "id": "51cac6aa",
   "metadata": {},
   "outputs": [],
   "source": [
    "# menggunakan model dbscan \n",
    "dbscan = DBSCAN() \n",
    "# ftting data\n",
    "dbscan.fit(bunga.data) \n",
    "\n",
    "#transformasi \n",
    "pca = PCA(n_components=2).fit(bunga.data) \n",
    "pca_2d = pca.transform(bunga.data)\n",
    "\n",
    "pca_2d"
   ]
  },
  {
   "cell_type": "code",
   "execution_count": null,
   "id": "5be596b9",
   "metadata": {},
   "outputs": [],
   "source": [
    "# visualisasi \n",
    "\n",
    "fig = plt.figure(figsize = (8,8))\n",
    "ax = fig.add_subplot(1,1,1) \n",
    "ax.set_xlabel('PC1')\n",
    "ax.set_ylabel('PC2')\n",
    "\n",
    "ax.set_title('Plot of PC1 vs PC2', fontsize = 20)\n",
    "\n",
    "targets = ['Iris-setosa', 'Iris-versicolor', 'Iris-virginica']\n",
    "# menyiapkan warna yang berbeda tiap target \n",
    "colors = ['r', 'g', 'b']\n",
    "\n",
    "for target, color in zip(targets,colors):\n",
    "    indicesToKeep = newDataframe['target'] == target\n",
    "    ax.scatter(newDataframe.loc[indicesToKeep, 'PC1']\n",
    "               , newDataframe.loc[indicesToKeep, 'PC2']\n",
    "               , c = color\n",
    "               , s = 50)\n",
    "    \n",
    "ax.legend(targets)\n",
    "ax.grid()"
   ]
  }
 ],
 "metadata": {
  "kernelspec": {
   "display_name": "Python 3 (ipykernel)",
   "language": "python",
   "name": "python3"
  },
  "language_info": {
   "codemirror_mode": {
    "name": "ipython",
    "version": 3
   },
   "file_extension": ".py",
   "mimetype": "text/x-python",
   "name": "python",
   "nbconvert_exporter": "python",
   "pygments_lexer": "ipython3",
   "version": "3.9.13"
  },
  "toc": {
   "base_numbering": 1,
   "nav_menu": {},
   "number_sections": true,
   "sideBar": true,
   "skip_h1_title": false,
   "title_cell": "Table of Contents",
   "title_sidebar": "Contents",
   "toc_cell": false,
   "toc_position": {},
   "toc_section_display": true,
   "toc_window_display": false
  }
 },
 "nbformat": 4,
 "nbformat_minor": 5
}
