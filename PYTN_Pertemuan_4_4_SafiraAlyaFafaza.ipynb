{
 "cells": [
  {
   "cell_type": "markdown",
   "id": "b7f55548",
   "metadata": {},
   "source": [
    "NumPy"
   ]
  },
  {
   "cell_type": "code",
   "execution_count": 1,
   "id": "465cae10",
   "metadata": {},
   "outputs": [],
   "source": [
    "import numpy as np"
   ]
  },
  {
   "cell_type": "markdown",
   "id": "99fed771",
   "metadata": {},
   "source": [
    "Membandingkan kecepatan antara NumPy dengan List Core Python"
   ]
  },
  {
   "cell_type": "code",
   "execution_count": 3,
   "id": "7d9482a7",
   "metadata": {},
   "outputs": [
    {
     "name": "stdout",
     "output_type": "stream",
     "text": [
      "[0, 2, 12, 36, 80, 150, 252, 392, 576, 810]\n"
     ]
    }
   ],
   "source": [
    "#List Core Python\n",
    "def python_listsum(n):\n",
    "    a = b = list(range(n))\n",
    "    output = []\n",
    "    for idx in range(len(a)):\n",
    "        x = a[idx] ** 2\n",
    "        y = b[idx] ** 3\n",
    "        output.append(x + y)\n",
    "        \n",
    "    return output\n",
    "\n",
    "output_listsum = python_listsum(10)\n",
    "print(output_listsum)"
   ]
  },
  {
   "cell_type": "code",
   "execution_count": 5,
   "id": "5af72382",
   "metadata": {},
   "outputs": [
    {
     "name": "stdout",
     "output_type": "stream",
     "text": [
      "[  0   2  12  36  80 150 252 392 576 810]\n"
     ]
    }
   ],
   "source": [
    "#NumPy\n",
    "def numpy_sum(n):\n",
    "    x = np.arange(n) ** 2\n",
    "    y = np.arange(n) ** 3\n",
    "    return x + y\n",
    "\n",
    "output = numpy_sum(10)\n",
    "print(output)"
   ]
  },
  {
   "cell_type": "code",
   "execution_count": 8,
   "id": "12e62bb2",
   "metadata": {},
   "outputs": [
    {
     "name": "stdout",
     "output_type": "stream",
     "text": [
      "Waktu yang dibutuhkan : 1001\n",
      "Data 2 akhir dari list : [950796 980100]\n"
     ]
    }
   ],
   "source": [
    "from datetime import datetime\n",
    "size = 1000000\n",
    "awal = datetime.now()\n",
    "\n",
    "output = numpy_sum(100)\n",
    "end = datetime.now() - awal\n",
    "\n",
    "print(f\"Waktu yang dibutuhkan : {end.microseconds}\")\n",
    "print(f\"Data 2 akhir dari list : {output[-2:]}\")"
   ]
  },
  {
   "cell_type": "markdown",
   "id": "4c267e69",
   "metadata": {},
   "source": [
    "# Ndarrays"
   ]
  },
  {
   "cell_type": "code",
   "execution_count": 9,
   "id": "572e9496",
   "metadata": {},
   "outputs": [
    {
     "name": "stdout",
     "output_type": "stream",
     "text": [
      "[0, 1, 2, 3, 4]\n",
      "<class 'list'>\n"
     ]
    }
   ],
   "source": [
    "listrange = list(range(5))\n",
    "print(listrange)\n",
    "print(type(listrange))"
   ]
  },
  {
   "cell_type": "code",
   "execution_count": 10,
   "id": "ab7c1e87",
   "metadata": {},
   "outputs": [
    {
     "name": "stdout",
     "output_type": "stream",
     "text": [
      "[0 1 2 3 4]\n",
      "<class 'numpy.ndarray'>\n"
     ]
    }
   ],
   "source": [
    "nparr = np.array(listrange)\n",
    "print(nparr)\n",
    "print(type(nparr))"
   ]
  },
  {
   "cell_type": "code",
   "execution_count": 11,
   "id": "f4615bbe",
   "metadata": {},
   "outputs": [
    {
     "name": "stdout",
     "output_type": "stream",
     "text": [
      "[0 1 2 3 4]\n",
      "[1 2 3 4 5 6 7 8]\n",
      "[ 1  3  5  7  9 11 13]\n"
     ]
    }
   ],
   "source": [
    "#start default = 0, stop, step default = 1\n",
    "print(np.arange(5))\n",
    "print(np.arange(1,9))\n",
    "print(np.arange(1,15,2))"
   ]
  },
  {
   "cell_type": "markdown",
   "id": "efba5656",
   "metadata": {},
   "source": [
    "## Add, Remove, and Sort"
   ]
  },
  {
   "cell_type": "code",
   "execution_count": 13,
   "id": "ffe45ecf",
   "metadata": {},
   "outputs": [
    {
     "name": "stdout",
     "output_type": "stream",
     "text": [
      "[ 1  2  3  4  5  6  7  8  9 10]\n",
      "<class 'numpy.ndarray'>\n"
     ]
    }
   ],
   "source": [
    "nparr = np.arange(1, 11)\n",
    "print(nparr)\n",
    "print(type(nparr))"
   ]
  },
  {
   "cell_type": "markdown",
   "id": "d28c889a",
   "metadata": {},
   "source": [
    "Add"
   ]
  },
  {
   "cell_type": "code",
   "execution_count": 14,
   "id": "4f076cda",
   "metadata": {},
   "outputs": [
    {
     "name": "stdout",
     "output_type": "stream",
     "text": [
      "[ 1  2  3  4  5  6  7  8  9 10 12 14]\n"
     ]
    }
   ],
   "source": [
    "new_np = np.append(nparr, [12,14])\n",
    "print(new_np)"
   ]
  },
  {
   "cell_type": "markdown",
   "id": "d0f58988",
   "metadata": {},
   "source": [
    "Remove"
   ]
  },
  {
   "cell_type": "code",
   "execution_count": 15,
   "id": "869079dd",
   "metadata": {},
   "outputs": [
    {
     "name": "stdout",
     "output_type": "stream",
     "text": [
      "[ 1  2  3  4  5  6  7  8  9 10 12 14]\n"
     ]
    }
   ],
   "source": [
    "new_np = np.append(nparr, [12,14])\n",
    "print(new_np)"
   ]
  },
  {
   "cell_type": "code",
   "execution_count": 16,
   "id": "672abe97",
   "metadata": {},
   "outputs": [
    {
     "data": {
      "text/plain": [
       "array([ 1,  2,  3,  4,  6,  7,  8,  9, 10, 12, 14])"
      ]
     },
     "execution_count": 16,
     "metadata": {},
     "output_type": "execute_result"
    }
   ],
   "source": [
    "np.delete(new_np, 4)"
   ]
  },
  {
   "cell_type": "markdown",
   "id": "f6e8ea6c",
   "metadata": {},
   "source": [
    "Sort"
   ]
  },
  {
   "cell_type": "code",
   "execution_count": 17,
   "id": "9c9dfcd3",
   "metadata": {},
   "outputs": [
    {
     "name": "stdout",
     "output_type": "stream",
     "text": [
      "[ 1  2  3  4  5  6  7  8 10]\n"
     ]
    }
   ],
   "source": [
    "arr_acak = np.array([4,2,1,10,6,8,5,7,3])\n",
    "arr_sort = np.sort(arr_acak)\n",
    "print(arr_sort)"
   ]
  },
  {
   "cell_type": "markdown",
   "id": "61951025",
   "metadata": {},
   "source": [
    "# Multi-Dimensional Arrays"
   ]
  },
  {
   "cell_type": "markdown",
   "id": "9650fc0b",
   "metadata": {},
   "source": [
    "## Ndim, Shape, and Size"
   ]
  },
  {
   "cell_type": "markdown",
   "id": "0c926794",
   "metadata": {},
   "source": [
    "2 Dimensi"
   ]
  },
  {
   "cell_type": "code",
   "execution_count": 19,
   "id": "58763540",
   "metadata": {},
   "outputs": [
    {
     "name": "stdout",
     "output_type": "stream",
     "text": [
      "[[0, 1, 2, 3], [10, 11, 12, 13]]\n",
      "[[ 0  1  2  3]\n",
      " [10 11 12 13]]\n",
      " nidm : 2, shape : (2, 4), size : 8\n"
     ]
    }
   ],
   "source": [
    "multiplelist= [[0,1,2,3], [10,11,12,13]]\n",
    "print(multiplelist)\n",
    "\n",
    "np_arr = np.array(multiplelist)\n",
    "print(f\"{np_arr}\")\n",
    "print(f\" nidm : {np_arr.ndim}, shape : {np_arr.shape}, size : {np_arr.size}\")"
   ]
  },
  {
   "cell_type": "markdown",
   "id": "3a31e614",
   "metadata": {},
   "source": [
    "ndim -> jumlah sumbu atau dimensi dari array\n",
    "\n",
    "size -> jumlah total elemen array\n",
    "\n",
    "shape -> tupel bilangan bulat yang menunjukkan jumlah elemen yang disimpan disetiap dimensi array"
   ]
  },
  {
   "cell_type": "markdown",
   "id": "07f91756",
   "metadata": {},
   "source": [
    "3 Dimensi"
   ]
  },
  {
   "cell_type": "code",
   "execution_count": 20,
   "id": "aa1584cb",
   "metadata": {},
   "outputs": [
    {
     "name": "stdout",
     "output_type": "stream",
     "text": [
      "[[[ 0  1  2  3]\n",
      "  [ 4  5  6  7]]\n",
      "\n",
      " [[ 8  9 10 11]\n",
      "  [12 13 14 15]]\n",
      "\n",
      " [[20 21 22 23]\n",
      "  [24 25 26 27]]]\n",
      "(3, 2, 4)\n",
      "24\n",
      "3\n"
     ]
    }
   ],
   "source": [
    "np_arr3 = np.array (  [\n",
    "             [[0,1,2,3],[4,5,6,7]],\n",
    "             [[8,9,10,11],[12,13,14,15]],\n",
    "             [[20,21,22,23],[24,25,26,27]]\n",
    "              ])\n",
    "\n",
    "print(np_arr3)\n",
    "print(np_arr3.shape)\n",
    "print(np_arr3.size)\n",
    "print(np_arr3.ndim)"
   ]
  },
  {
   "cell_type": "markdown",
   "id": "45ba029b",
   "metadata": {},
   "source": [
    "## Reshape"
   ]
  },
  {
   "cell_type": "markdown",
   "id": "d468f8df",
   "metadata": {},
   "source": [
    "reshape -> memberikan bentuk baru ke array tanpa mengubah datanya"
   ]
  },
  {
   "cell_type": "code",
   "execution_count": 21,
   "id": "28d2b13d",
   "metadata": {},
   "outputs": [
    {
     "name": "stdout",
     "output_type": "stream",
     "text": [
      "[0 1 2 3 4 5]\n"
     ]
    }
   ],
   "source": [
    "a = np.arange(6)\n",
    "print(a)"
   ]
  },
  {
   "cell_type": "code",
   "execution_count": 22,
   "id": "7c25ad4b",
   "metadata": {},
   "outputs": [
    {
     "name": "stdout",
     "output_type": "stream",
     "text": [
      "[[0 1]\n",
      " [2 3]\n",
      " [4 5]]\n"
     ]
    }
   ],
   "source": [
    "b = a.reshape(3, 2)\n",
    "print(b)"
   ]
  },
  {
   "cell_type": "markdown",
   "id": "73c1c7b6",
   "metadata": {},
   "source": [
    "## Sorting"
   ]
  },
  {
   "cell_type": "code",
   "execution_count": 23,
   "id": "cc148af1",
   "metadata": {},
   "outputs": [
    {
     "name": "stdout",
     "output_type": "stream",
     "text": [
      "Field mahasiswa :  [('name', 'S10'), ('ipk', <class 'float'>), ('age', <class 'int'>)]\n",
      "Value mahasiswa :  [('Sule', 3.5, 25), ('Azis', 3.9, 24), ('Parto', 3.2, 30), ('Andre', 3.2, 24)]\n"
     ]
    }
   ],
   "source": [
    "field_mhs  = [('name','S10'), ('ipk',float), ('age',int)]\n",
    "value_mhs = [('Sule',3.5, 25), ('Azis',3.9, 24), ('Parto',3.2, 30), ('Andre',3.2, 24) ]\n",
    "\n",
    "print(\"Field mahasiswa : \", field_mhs)  \n",
    "print(\"Value mahasiswa : \", value_mhs)"
   ]
  },
  {
   "cell_type": "code",
   "execution_count": 25,
   "id": "dc81ea00",
   "metadata": {},
   "outputs": [
    {
     "name": "stdout",
     "output_type": "stream",
     "text": [
      "[(b'Sule', 3.5, 25) (b'Azis', 3.9, 24) (b'Parto', 3.2, 30)\n",
      " (b'Andre', 3.2, 24)]\n"
     ]
    }
   ],
   "source": [
    "data_mhs = np.array(value_mhs, dtype = field_mhs)\n",
    "print(data_mhs)"
   ]
  },
  {
   "cell_type": "code",
   "execution_count": 26,
   "id": "069dcecc",
   "metadata": {},
   "outputs": [
    {
     "name": "stdout",
     "output_type": "stream",
     "text": [
      "Data sort by name :  [(b'Andre', 3.2, 24) (b'Azis', 3.9, 24) (b'Parto', 3.2, 30)\n",
      " (b'Sule', 3.5, 25)]\n",
      "Data sort by age and ipk :  [(b'Andre', 3.2, 24) (b'Azis', 3.9, 24) (b'Sule', 3.5, 25)\n",
      " (b'Parto', 3.2, 30)]\n"
     ]
    }
   ],
   "source": [
    "data_sortby_name = np.sort(data_mhs, order='name')\n",
    "data_sortby_ageipk = np.sort(data_mhs, order=['age','ipk'])\n",
    "\n",
    "print(\"Data sort by name : \", data_sortby_name)\n",
    "print(\"Data sort by age and ipk : \", data_sortby_ageipk)"
   ]
  },
  {
   "cell_type": "markdown",
   "id": "81d6febe",
   "metadata": {},
   "source": [
    "### Zeroes (sorting with structure)"
   ]
  },
  {
   "cell_type": "code",
   "execution_count": 27,
   "id": "d4a37ff8",
   "metadata": {},
   "outputs": [
    {
     "data": {
      "text/plain": [
       "array([0., 0., 0., 0., 0., 0., 0., 0., 0., 0.])"
      ]
     },
     "execution_count": 27,
     "metadata": {},
     "output_type": "execute_result"
    }
   ],
   "source": [
    "np.zeros(10)"
   ]
  },
  {
   "cell_type": "code",
   "execution_count": 28,
   "id": "65195165",
   "metadata": {},
   "outputs": [
    {
     "data": {
      "text/plain": [
       "array([1., 1., 1., 1., 1., 1., 1., 1., 1., 1., 1., 1., 1., 1.])"
      ]
     },
     "execution_count": 28,
     "metadata": {},
     "output_type": "execute_result"
    }
   ],
   "source": [
    "np.ones(14)"
   ]
  },
  {
   "cell_type": "code",
   "execution_count": 29,
   "id": "7f309b11",
   "metadata": {},
   "outputs": [
    {
     "data": {
      "text/plain": [
       "array([[[0., 0.],\n",
       "        [0., 0.]],\n",
       "\n",
       "       [[0., 0.],\n",
       "        [0., 0.]]])"
      ]
     },
     "execution_count": 29,
     "metadata": {},
     "output_type": "execute_result"
    }
   ],
   "source": [
    "np.zeros((2, 2, 2))"
   ]
  },
  {
   "cell_type": "markdown",
   "id": "b37ec2c7",
   "metadata": {},
   "source": [
    "# Convert 1D to 2D"
   ]
  },
  {
   "cell_type": "code",
   "execution_count": 30,
   "id": "60e3f77b",
   "metadata": {},
   "outputs": [
    {
     "name": "stdout",
     "output_type": "stream",
     "text": [
      "[2 3 4 5 6 7]\n",
      "(6,)\n",
      "1\n"
     ]
    }
   ],
   "source": [
    "datad = np.arange(2,8) \n",
    "print(datad)\n",
    "print(datad.shape)\n",
    "print(datad.ndim)"
   ]
  },
  {
   "cell_type": "code",
   "execution_count": 31,
   "id": "a98d9034",
   "metadata": {},
   "outputs": [
    {
     "name": "stdout",
     "output_type": "stream",
     "text": [
      "[[2 3 4 5 6 7]]\n",
      "(1, 6)\n",
      "2\n"
     ]
    }
   ],
   "source": [
    "new_datad = datad[np.newaxis]\n",
    "print(new_datad)\n",
    "print(new_datad.shape)\n",
    "print(new_datad.ndim)"
   ]
  },
  {
   "cell_type": "code",
   "execution_count": 32,
   "id": "d4ce6f74",
   "metadata": {},
   "outputs": [
    {
     "name": "stdout",
     "output_type": "stream",
     "text": [
      "[[2]\n",
      " [3]\n",
      " [4]\n",
      " [5]\n",
      " [6]\n",
      " [7]]\n",
      "(6, 1)\n",
      "2\n"
     ]
    }
   ],
   "source": [
    "vector_column = datad[ : ,np.newaxis]\n",
    "print(vector_column)\n",
    "print(vector_column.shape)\n",
    "print(vector_column.ndim)"
   ]
  },
  {
   "cell_type": "markdown",
   "id": "545635de",
   "metadata": {},
   "source": [
    "# Indexing and Slicing"
   ]
  },
  {
   "cell_type": "code",
   "execution_count": 33,
   "id": "39f82cd2",
   "metadata": {},
   "outputs": [
    {
     "name": "stdout",
     "output_type": "stream",
     "text": [
      "[0 1 2 3 4 5 6 7 8 9]\n"
     ]
    }
   ],
   "source": [
    "datanp = np.array([0,1,2,3,4,5,6,7,8,9])\n",
    "print(datanp)"
   ]
  },
  {
   "cell_type": "code",
   "execution_count": 34,
   "id": "c3ade8ad",
   "metadata": {},
   "outputs": [
    {
     "name": "stdout",
     "output_type": "stream",
     "text": [
      "1\n",
      "9\n"
     ]
    }
   ],
   "source": [
    "print(datanp[1])\n",
    "print(datanp[-1])"
   ]
  },
  {
   "cell_type": "code",
   "execution_count": 35,
   "id": "3cf3f4d8",
   "metadata": {},
   "outputs": [
    {
     "name": "stdout",
     "output_type": "stream",
     "text": [
      "[1 2 3 4]\n"
     ]
    }
   ],
   "source": [
    "print(datanp[1:5])"
   ]
  },
  {
   "cell_type": "code",
   "execution_count": 36,
   "id": "4d4f1a6c",
   "metadata": {},
   "outputs": [
    {
     "name": "stdout",
     "output_type": "stream",
     "text": [
      "[8 9]\n"
     ]
    }
   ],
   "source": [
    "print(datanp[-2:])"
   ]
  },
  {
   "cell_type": "markdown",
   "id": "c16bf8ae",
   "metadata": {},
   "source": [
    "## Slicing Menggunakan Kondisi Tertentu"
   ]
  },
  {
   "cell_type": "code",
   "execution_count": 37,
   "id": "68a4e4ff",
   "metadata": {},
   "outputs": [
    {
     "name": "stdout",
     "output_type": "stream",
     "text": [
      "[[ 0  1  2  3]\n",
      " [ 4  5  6  7]\n",
      " [ 8  9 10 11]]\n"
     ]
    }
   ],
   "source": [
    "list2d = [[0,1,2,3],[4,5,6,7],[8,9,10,11]]\n",
    "np2d = np.array(list2d)\n",
    "print(np2d)"
   ]
  },
  {
   "cell_type": "code",
   "execution_count": 38,
   "id": "3f224e8b",
   "metadata": {},
   "outputs": [
    {
     "name": "stdout",
     "output_type": "stream",
     "text": [
      "[0 1 2 3 4 5]\n"
     ]
    }
   ],
   "source": [
    "print(np2d[np2d<6])"
   ]
  },
  {
   "cell_type": "code",
   "execution_count": 41,
   "id": "94015990",
   "metadata": {},
   "outputs": [
    {
     "name": "stdout",
     "output_type": "stream",
     "text": [
      "[ 8  9 10 11]\n"
     ]
    }
   ],
   "source": [
    "kondisi_lebihdari_7 = (np2d >7)\n",
    "print(np2d[kondisi_lebihdari_7])                    "
   ]
  },
  {
   "cell_type": "code",
   "execution_count": 42,
   "id": "51848a21",
   "metadata": {},
   "outputs": [
    {
     "name": "stdout",
     "output_type": "stream",
     "text": [
      "[4 5 6]\n"
     ]
    }
   ],
   "source": [
    "kondisi2 = (np2d > 3) & (np2d <7)\n",
    "print(np2d[kondisi2])"
   ]
  },
  {
   "cell_type": "code",
   "execution_count": 43,
   "id": "1f990f05",
   "metadata": {},
   "outputs": [
    {
     "name": "stdout",
     "output_type": "stream",
     "text": [
      "[ 1  3  5  7  9 11]\n"
     ]
    }
   ],
   "source": [
    "print(np2d[np2d % 2 == 1])"
   ]
  },
  {
   "cell_type": "markdown",
   "id": "bf26678b",
   "metadata": {},
   "source": [
    "# Creating Array from Existing Data"
   ]
  },
  {
   "cell_type": "markdown",
   "id": "0154c52f",
   "metadata": {},
   "source": [
    "## Slicing Indexing"
   ]
  },
  {
   "cell_type": "code",
   "execution_count": 44,
   "id": "a579b3b8",
   "metadata": {},
   "outputs": [
    {
     "name": "stdout",
     "output_type": "stream",
     "text": [
      "[5 6 7 8 9]\n"
     ]
    }
   ],
   "source": [
    "np_arr1 = np.array([ 1, 2, 3, 4, 5, 6, 7, 8, 9, 10])\n",
    "print(np_arr1[4:9])"
   ]
  },
  {
   "cell_type": "code",
   "execution_count": 45,
   "id": "e3ef1d13",
   "metadata": {},
   "outputs": [
    {
     "name": "stdout",
     "output_type": "stream",
     "text": [
      "[[1 1]\n",
      " [2 2]]\n",
      "[[3 3]\n",
      " [4 4]]\n"
     ]
    }
   ],
   "source": [
    "np_a2d = np.array([[1,1],[2,2]])\n",
    "np_b2d = np.array([[3,3],[4,4]])\n",
    "print(np_a2d)\n",
    "print(np_b2d)"
   ]
  },
  {
   "cell_type": "markdown",
   "id": "778d8c8b",
   "metadata": {},
   "source": [
    "## np.vstack()"
   ]
  },
  {
   "cell_type": "code",
   "execution_count": 46,
   "id": "90563204",
   "metadata": {},
   "outputs": [
    {
     "name": "stdout",
     "output_type": "stream",
     "text": [
      "[[1 1]\n",
      " [2 2]\n",
      " [3 3]\n",
      " [4 4]]\n"
     ]
    }
   ],
   "source": [
    "npv = np.vstack((np_a2d, np_b2d))\n",
    "print(npv)"
   ]
  },
  {
   "cell_type": "markdown",
   "id": "38696853",
   "metadata": {},
   "source": [
    "## np.hstack()"
   ]
  },
  {
   "cell_type": "code",
   "execution_count": 47,
   "id": "1b2d8c94",
   "metadata": {},
   "outputs": [
    {
     "name": "stdout",
     "output_type": "stream",
     "text": [
      "[[1 1 3 3]\n",
      " [2 2 4 4]]\n"
     ]
    }
   ],
   "source": [
    "nph = np.hstack((np_a2d, np_b2d))\n",
    "print(nph)"
   ]
  },
  {
   "cell_type": "markdown",
   "id": "7b66ee0a",
   "metadata": {},
   "source": [
    "## np.hsplit()"
   ]
  },
  {
   "cell_type": "code",
   "execution_count": 48,
   "id": "b51eccba",
   "metadata": {},
   "outputs": [
    {
     "name": "stdout",
     "output_type": "stream",
     "text": [
      "[[ 1  2  3  4  5  6  7  8  9 10]\n",
      " [11 12 13 14 15 16 17 18 19 20]]\n"
     ]
    }
   ],
   "source": [
    "arr_s = np.array([[1,2,3,4,5,6,7,8,9,10],[11,12,13,14,15,16,17,18,19,20]])\n",
    "print(arr_s)"
   ]
  },
  {
   "cell_type": "code",
   "execution_count": 49,
   "id": "172e00d0",
   "metadata": {},
   "outputs": [
    {
     "name": "stdout",
     "output_type": "stream",
     "text": [
      "[array([[ 1,  2],\n",
      "       [11, 12]]), array([[ 3,  4],\n",
      "       [13, 14]]), array([[ 5,  6],\n",
      "       [15, 16]]), array([[ 7,  8],\n",
      "       [17, 18]]), array([[ 9, 10],\n",
      "       [19, 20]])]\n",
      "<class 'list'>\n"
     ]
    }
   ],
   "source": [
    "res_split = np.hsplit(arr_s,5)\n",
    "print(res_split)\n",
    "print(type(res_split))"
   ]
  },
  {
   "cell_type": "markdown",
   "id": "100c053a",
   "metadata": {},
   "source": [
    "## view()"
   ]
  },
  {
   "cell_type": "code",
   "execution_count": 50,
   "id": "c39c035e",
   "metadata": {},
   "outputs": [
    {
     "data": {
      "text/plain": [
       "array([[ 1,  2,  3,  4],\n",
       "       [ 5,  6,  7,  8],\n",
       "       [ 9, 10, 11, 12]])"
      ]
     },
     "execution_count": 50,
     "metadata": {},
     "output_type": "execute_result"
    }
   ],
   "source": [
    "a = np.array([[1, 2, 3, 4], [5, 6, 7, 8], [9, 10, 11, 12]])\n",
    "a"
   ]
  },
  {
   "cell_type": "code",
   "execution_count": 52,
   "id": "6e6db24b",
   "metadata": {},
   "outputs": [
    {
     "data": {
      "text/plain": [
       "array([[ 1,  2,  3,  4],\n",
       "       [ 5,  6,  7,  8],\n",
       "       [ 9, 10, 11, 12]])"
      ]
     },
     "execution_count": 52,
     "metadata": {},
     "output_type": "execute_result"
    }
   ],
   "source": [
    "b = a.view()\n",
    "b"
   ]
  },
  {
   "cell_type": "markdown",
   "id": "6eba7b9d",
   "metadata": {},
   "source": [
    "## copy()"
   ]
  },
  {
   "cell_type": "code",
   "execution_count": 54,
   "id": "53fc7fd2",
   "metadata": {},
   "outputs": [
    {
     "data": {
      "text/plain": [
       "array([[ 1,  2,  3,  4],\n",
       "       [ 5,  6,  7,  8],\n",
       "       [ 9, 10, 11, 12]])"
      ]
     },
     "execution_count": 54,
     "metadata": {},
     "output_type": "execute_result"
    }
   ],
   "source": [
    "c = a.copy()\n",
    "c"
   ]
  },
  {
   "cell_type": "markdown",
   "id": "68f10158",
   "metadata": {},
   "source": [
    "# Basic Array Operations"
   ]
  },
  {
   "cell_type": "code",
   "execution_count": 55,
   "id": "d0b00b9d",
   "metadata": {},
   "outputs": [
    {
     "name": "stdout",
     "output_type": "stream",
     "text": [
      "36\n"
     ]
    }
   ],
   "source": [
    "np1d = np.array([1, 2, 3, 4, 5, 6, 7, 8])\n",
    "print(np1d.sum())"
   ]
  },
  {
   "cell_type": "code",
   "execution_count": 56,
   "id": "0d5ddd19",
   "metadata": {},
   "outputs": [
    {
     "name": "stdout",
     "output_type": "stream",
     "text": [
      "[[10 20]\n",
      " [30 50]]\n",
      "##########\n",
      "[40 70]\n",
      "##########\n",
      "[30 80]\n"
     ]
    }
   ],
   "source": [
    "np2da = np.array([[10, 20],[30, 50]])\n",
    "\n",
    "print(np2da)\n",
    "print(\"#\"*10)\n",
    "print(np2da.sum(axis=0)) # menjumlahkan baris \n",
    "print(\"#\"*10)\n",
    "print(np2da.sum(axis=1)) # menjumlahkan kolom "
   ]
  },
  {
   "cell_type": "code",
   "execution_count": 57,
   "id": "153e3555",
   "metadata": {},
   "outputs": [
    {
     "data": {
      "text/plain": [
       "array([1, 2])"
      ]
     },
     "execution_count": 57,
     "metadata": {},
     "output_type": "execute_result"
    }
   ],
   "source": [
    "data = np.array([1, 2])\n",
    "data"
   ]
  },
  {
   "cell_type": "code",
   "execution_count": 58,
   "id": "830e3a84",
   "metadata": {},
   "outputs": [
    {
     "data": {
      "text/plain": [
       "array([1., 1.])"
      ]
     },
     "execution_count": 58,
     "metadata": {},
     "output_type": "execute_result"
    }
   ],
   "source": [
    "ones = np.ones(2)\n",
    "ones"
   ]
  },
  {
   "cell_type": "code",
   "execution_count": 59,
   "id": "636cb086",
   "metadata": {},
   "outputs": [
    {
     "data": {
      "text/plain": [
       "array([2., 3.])"
      ]
     },
     "execution_count": 59,
     "metadata": {},
     "output_type": "execute_result"
    }
   ],
   "source": [
    "data + ones"
   ]
  },
  {
   "cell_type": "code",
   "execution_count": 60,
   "id": "c6da8404",
   "metadata": {},
   "outputs": [
    {
     "data": {
      "text/plain": [
       "array([0., 1.])"
      ]
     },
     "execution_count": 60,
     "metadata": {},
     "output_type": "execute_result"
    }
   ],
   "source": [
    "data - ones"
   ]
  },
  {
   "cell_type": "code",
   "execution_count": 62,
   "id": "000860b7",
   "metadata": {},
   "outputs": [
    {
     "data": {
      "text/plain": [
       "array([1., 2.])"
      ]
     },
     "execution_count": 62,
     "metadata": {},
     "output_type": "execute_result"
    }
   ],
   "source": [
    "data * ones"
   ]
  },
  {
   "cell_type": "code",
   "execution_count": 65,
   "id": "13d1429c",
   "metadata": {},
   "outputs": [
    {
     "data": {
      "text/plain": [
       "array([1, 4])"
      ]
     },
     "execution_count": 65,
     "metadata": {},
     "output_type": "execute_result"
    }
   ],
   "source": [
    "data * data"
   ]
  },
  {
   "cell_type": "code",
   "execution_count": 63,
   "id": "41407775",
   "metadata": {},
   "outputs": [
    {
     "data": {
      "text/plain": [
       "array([1., 2.])"
      ]
     },
     "execution_count": 63,
     "metadata": {},
     "output_type": "execute_result"
    }
   ],
   "source": [
    "data / ones"
   ]
  },
  {
   "cell_type": "code",
   "execution_count": 66,
   "id": "6e69f965",
   "metadata": {},
   "outputs": [
    {
     "data": {
      "text/plain": [
       "array([1., 1.])"
      ]
     },
     "execution_count": 66,
     "metadata": {},
     "output_type": "execute_result"
    }
   ],
   "source": [
    "data / data"
   ]
  },
  {
   "cell_type": "markdown",
   "id": "af81c1d2",
   "metadata": {},
   "source": [
    "# Broadcasting"
   ]
  },
  {
   "cell_type": "code",
   "execution_count": 67,
   "id": "513b9f30",
   "metadata": {},
   "outputs": [
    {
     "data": {
      "text/plain": [
       "array([2, 4])"
      ]
     },
     "execution_count": 67,
     "metadata": {},
     "output_type": "execute_result"
    }
   ],
   "source": [
    "data * 2"
   ]
  },
  {
   "cell_type": "markdown",
   "id": "12028cd7",
   "metadata": {},
   "source": [
    "# More Array Operations"
   ]
  },
  {
   "cell_type": "code",
   "execution_count": 70,
   "id": "dd0d55d9",
   "metadata": {},
   "outputs": [
    {
     "name": "stdout",
     "output_type": "stream",
     "text": [
      "[1 2 3 4 5 6 7 8]\n"
     ]
    }
   ],
   "source": [
    "np1d = np.array([1, 2, 3, 4, 5, 6, 7, 8])\n",
    "print(np1d)"
   ]
  },
  {
   "cell_type": "code",
   "execution_count": 71,
   "id": "11ed82a4",
   "metadata": {},
   "outputs": [
    {
     "name": "stdout",
     "output_type": "stream",
     "text": [
      "8\n",
      "1\n",
      "36\n"
     ]
    }
   ],
   "source": [
    "print(np1d.max())\n",
    "print(np1d.min())\n",
    "print(np1d.sum())"
   ]
  },
  {
   "cell_type": "markdown",
   "id": "1be32427",
   "metadata": {},
   "source": [
    "# Matrices"
   ]
  },
  {
   "cell_type": "markdown",
   "id": "b5e255b8",
   "metadata": {},
   "source": [
    "## Creating Matrices"
   ]
  },
  {
   "cell_type": "code",
   "execution_count": 72,
   "id": "a29f8b8f",
   "metadata": {},
   "outputs": [
    {
     "data": {
      "text/plain": [
       "array([[1., 1.],\n",
       "       [1., 1.],\n",
       "       [1., 1.]])"
      ]
     },
     "execution_count": 72,
     "metadata": {},
     "output_type": "execute_result"
    }
   ],
   "source": [
    "np.ones((3, 2))"
   ]
  },
  {
   "cell_type": "code",
   "execution_count": 73,
   "id": "15604255",
   "metadata": {},
   "outputs": [
    {
     "data": {
      "text/plain": [
       "array([[0., 0.],\n",
       "       [0., 0.],\n",
       "       [0., 0.]])"
      ]
     },
     "execution_count": 73,
     "metadata": {},
     "output_type": "execute_result"
    }
   ],
   "source": [
    "np.zeros((3, 2))"
   ]
  },
  {
   "cell_type": "code",
   "execution_count": 74,
   "id": "131d8db0",
   "metadata": {},
   "outputs": [
    {
     "data": {
      "text/plain": [
       "array([[0.44277551, 0.34391117],\n",
       "       [0.20248061, 0.4495524 ],\n",
       "       [0.4171727 , 0.70235883]])"
      ]
     },
     "execution_count": 74,
     "metadata": {},
     "output_type": "execute_result"
    }
   ],
   "source": [
    "np.random.random((3, 2))"
   ]
  },
  {
   "cell_type": "markdown",
   "id": "12849be1",
   "metadata": {},
   "source": [
    "## Matrices Arithmetic"
   ]
  },
  {
   "cell_type": "code",
   "execution_count": 75,
   "id": "48bcbaf3",
   "metadata": {},
   "outputs": [
    {
     "name": "stdout",
     "output_type": "stream",
     "text": [
      "[[1 2]\n",
      " [4 5]]\n"
     ]
    }
   ],
   "source": [
    "m_data =np.array([[1,2],[4,5]])\n",
    "print(m_data)"
   ]
  },
  {
   "cell_type": "code",
   "execution_count": 77,
   "id": "297abdbb",
   "metadata": {},
   "outputs": [
    {
     "name": "stdout",
     "output_type": "stream",
     "text": [
      "[[1. 1.]\n",
      " [1. 1.]]\n",
      "[[2. 3.]\n",
      " [5. 6.]]\n"
     ]
    }
   ],
   "source": [
    "np_one = np.ones([2,2])\n",
    "print(np_one)"
   ]
  },
  {
   "cell_type": "code",
   "execution_count": 78,
   "id": "13d1790f",
   "metadata": {},
   "outputs": [
    {
     "name": "stdout",
     "output_type": "stream",
     "text": [
      "[[2. 3.]\n",
      " [5. 6.]]\n"
     ]
    }
   ],
   "source": [
    "print(m_data + np_one)"
   ]
  },
  {
   "cell_type": "markdown",
   "id": "0dc87f86",
   "metadata": {},
   "source": [
    "## Dot Product"
   ]
  },
  {
   "cell_type": "code",
   "execution_count": 79,
   "id": "a80308c8",
   "metadata": {},
   "outputs": [
    {
     "data": {
      "text/plain": [
       "12"
      ]
     },
     "execution_count": 79,
     "metadata": {},
     "output_type": "execute_result"
    }
   ],
   "source": [
    "np.dot(3, 4)"
   ]
  },
  {
   "cell_type": "markdown",
   "id": "62ab5a5d",
   "metadata": {},
   "source": [
    "## Matrix Indexing"
   ]
  },
  {
   "cell_type": "code",
   "execution_count": 80,
   "id": "3e0fc714",
   "metadata": {},
   "outputs": [
    {
     "name": "stdout",
     "output_type": "stream",
     "text": [
      "[[1 2]\n",
      " [3 4]\n",
      " [5 6]]\n",
      "**********\n",
      "2\n",
      "[[3 4]\n",
      " [5 6]]\n",
      "[1 3]\n"
     ]
    }
   ],
   "source": [
    "data_m = np.array([[1, 2], [3, 4], [5, 6]])\n",
    "\n",
    "print(data_m)\n",
    "print(\"*\"*10)\n",
    "print(data_m[0,1]) ## baris ke 0 dan kolom ke 1\n",
    "print(data_m[1:]) ## baris ke 1 sampai ke 3 (3 tidak include) dan untuk semua kolom\n",
    "print(data_m[0:2,0])"
   ]
  },
  {
   "cell_type": "code",
   "execution_count": 81,
   "id": "a799ae1e",
   "metadata": {},
   "outputs": [
    {
     "name": "stdout",
     "output_type": "stream",
     "text": [
      "[ 1  2  3  4  5  6  7  8  9 10 11 12 13 14 15 16]\n",
      "[[ 1  2  3  4]\n",
      " [ 5  6  7  8]\n",
      " [ 9 10 11 12]\n",
      " [13 14 15 16]]\n"
     ]
    }
   ],
   "source": [
    "vkotak = np.arange(1,17,1)\n",
    "print(vkotak)\n",
    "\n",
    "kotak4x4 = vkotak.reshape(4,4)\n",
    "print(kotak4x4)"
   ]
  },
  {
   "cell_type": "code",
   "execution_count": 82,
   "id": "712f0320",
   "metadata": {},
   "outputs": [
    {
     "name": "stdout",
     "output_type": "stream",
     "text": [
      "[[ 5  7]\n",
      " [13 15]]\n",
      "[7 8]\n",
      "[ 2  6 10 14]\n",
      "[[11 12]\n",
      " [15 16]]\n"
     ]
    }
   ],
   "source": [
    "print(kotak4x4[1::2, 0::2])\n",
    "print(kotak4x4[1,2:4])\n",
    "print(kotak4x4[:,1])\n",
    "print(kotak4x4[-2:, 2:])"
   ]
  },
  {
   "cell_type": "markdown",
   "id": "ac682e9e",
   "metadata": {},
   "source": [
    "## Matrix Aggregation"
   ]
  },
  {
   "cell_type": "code",
   "execution_count": 84,
   "id": "5d18b711",
   "metadata": {},
   "outputs": [
    {
     "name": "stdout",
     "output_type": "stream",
     "text": [
      "[[ 1  2]\n",
      " [ 4  6]\n",
      " [ 8 10]]\n",
      "10\n",
      "1\n",
      "31\n"
     ]
    }
   ],
   "source": [
    "np2da = np.array([[1, 2],[4,6],[8,10]])\n",
    "\n",
    "print(np2da)\n",
    "print(np2da.max())\n",
    "print(np2da.min())\n",
    "print(np2da.sum())"
   ]
  },
  {
   "cell_type": "markdown",
   "id": "1b844c8a",
   "metadata": {},
   "source": [
    "## Transposing and Reshaping"
   ]
  },
  {
   "cell_type": "code",
   "execution_count": 86,
   "id": "8e743753",
   "metadata": {},
   "outputs": [
    {
     "name": "stdout",
     "output_type": "stream",
     "text": [
      "[[1 2]\n",
      " [3 4]\n",
      " [5 6]]\n",
      "Data transpose :  [[1 3 5]\n",
      " [2 4 6]]\n",
      "Data transpose :  [[1 3 5]\n",
      " [2 4 6]]\n"
     ]
    }
   ],
   "source": [
    "datat = np.array([[1,2],[3,4],[5,6]])\n",
    "\n",
    "print(datat)\n",
    "print(\"Data transpose : \", datat.transpose())\n",
    "print(\"Data transpose : \", datat.T)"
   ]
  },
  {
   "cell_type": "code",
   "execution_count": 87,
   "id": "89098cf7",
   "metadata": {},
   "outputs": [
    {
     "name": "stdout",
     "output_type": "stream",
     "text": [
      "[[1]\n",
      " [2]\n",
      " [3]\n",
      " [4]\n",
      " [5]\n",
      " [6]]\n"
     ]
    }
   ],
   "source": [
    "dataT = np.array([[1,2,3,4,5,6]]).T\n",
    "print(dataT)"
   ]
  },
  {
   "cell_type": "code",
   "execution_count": 88,
   "id": "cb35c330",
   "metadata": {},
   "outputs": [
    {
     "name": "stdout",
     "output_type": "stream",
     "text": [
      "[[1 2 3]\n",
      " [4 5 6]]\n",
      "[[1 2]\n",
      " [3 4]\n",
      " [5 6]]\n"
     ]
    }
   ],
   "source": [
    "print(dataT.reshape(2,3))\n",
    "print(dataT.reshape(3,2))"
   ]
  },
  {
   "cell_type": "markdown",
   "id": "2282108a",
   "metadata": {},
   "source": [
    "# Flatten N-Dimensional Array"
   ]
  },
  {
   "cell_type": "code",
   "execution_count": 89,
   "id": "cf9a6815",
   "metadata": {},
   "outputs": [
    {
     "name": "stdout",
     "output_type": "stream",
     "text": [
      "[1 2 3 4 5 6]\n"
     ]
    }
   ],
   "source": [
    "datat = np.array([[1,2],[3,4],[5,6]])\n",
    "data_flat = datat.flatten()\n",
    "print(data_flat)"
   ]
  },
  {
   "cell_type": "markdown",
   "id": "7b6f699d",
   "metadata": {},
   "source": [
    "# Working with Math Formulas"
   ]
  },
  {
   "cell_type": "code",
   "execution_count": 90,
   "id": "9294a33d",
   "metadata": {},
   "outputs": [
    {
     "name": "stdout",
     "output_type": "stream",
     "text": [
      "[ 0  1  2  3  4  5  6  7  8  9 10 11]\n"
     ]
    }
   ],
   "source": [
    "np_ds = np.arange(12)\n",
    "print(np_ds)"
   ]
  },
  {
   "cell_type": "code",
   "execution_count": 91,
   "id": "82c8ebfe",
   "metadata": {},
   "outputs": [
    {
     "name": "stdout",
     "output_type": "stream",
     "text": [
      "int32\n",
      "(12,)\n",
      "(4,)\n"
     ]
    }
   ],
   "source": [
    "print(np_ds.dtype)\n",
    "print(np_ds.shape)\n",
    "print(np_ds.strides)"
   ]
  },
  {
   "cell_type": "code",
   "execution_count": 92,
   "id": "764ef715",
   "metadata": {},
   "outputs": [
    {
     "name": "stdout",
     "output_type": "stream",
     "text": [
      "[[ 0  1  2]\n",
      " [ 3  4  5]\n",
      " [ 6  7  8]\n",
      " [ 9 10 11]]\n"
     ]
    }
   ],
   "source": [
    "np_ds_2d = np_ds.reshape(4,3)\n",
    "print(np_ds_2d)"
   ]
  },
  {
   "cell_type": "code",
   "execution_count": 93,
   "id": "deb5f227",
   "metadata": {},
   "outputs": [
    {
     "name": "stdout",
     "output_type": "stream",
     "text": [
      "int32\n",
      "(4, 3)\n",
      "(12, 4)\n"
     ]
    }
   ],
   "source": [
    "print(np_ds_2d.dtype)\n",
    "print(np_ds_2d.shape)\n",
    "print(np_ds_2d.strides)"
   ]
  },
  {
   "cell_type": "code",
   "execution_count": 94,
   "id": "cf4a7a0e",
   "metadata": {},
   "outputs": [
    {
     "data": {
      "text/plain": [
       "(6, 2)"
      ]
     },
     "execution_count": 94,
     "metadata": {},
     "output_type": "execute_result"
    }
   ],
   "source": [
    "np_ds_int16 = np_ds_2d.astype('int16')\n",
    "\n",
    "np_ds_int16.strides "
   ]
  }
 ],
 "metadata": {
  "kernelspec": {
   "display_name": "Python 3 (ipykernel)",
   "language": "python",
   "name": "python3"
  },
  "language_info": {
   "codemirror_mode": {
    "name": "ipython",
    "version": 3
   },
   "file_extension": ".py",
   "mimetype": "text/x-python",
   "name": "python",
   "nbconvert_exporter": "python",
   "pygments_lexer": "ipython3",
   "version": "3.9.13"
  },
  "toc": {
   "base_numbering": 1,
   "nav_menu": {},
   "number_sections": true,
   "sideBar": true,
   "skip_h1_title": false,
   "title_cell": "Table of Contents",
   "title_sidebar": "Contents",
   "toc_cell": false,
   "toc_position": {},
   "toc_section_display": true,
   "toc_window_display": false
  }
 },
 "nbformat": 4,
 "nbformat_minor": 5
}
